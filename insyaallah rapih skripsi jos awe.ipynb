{
 "cells": [
  {
   "cell_type": "code",
   "execution_count": 1,
   "id": "4804c44a",
   "metadata": {},
   "outputs": [
    {
     "name": "stderr",
     "output_type": "stream",
     "text": [
      "C:\\ProgramData\\Anaconda3\\lib\\site-packages\\scipy\\__init__.py:138: UserWarning: A NumPy version >=1.16.5 and <1.23.0 is required for this version of SciPy (detected version 1.24.0)\n",
      "  warnings.warn(f\"A NumPy version >={np_minversion} and <{np_maxversion} is required for this version of \"\n"
     ]
    }
   ],
   "source": [
    "import pandas as pd\n",
    "import numpy as np \n",
    "import pandas as pd\n",
    "import matplotlib.pyplot as plt\n",
    "import seaborn as sns\n",
    "import os\n",
    "import plotly.express as px\n",
    "import plotly.graph_objs as go\n",
    "from sklearn.metrics import f1_score, recall_score, precision_score, mean_squared_error, mean_absolute_error, r2_score\n",
    "from sklearn.model_selection import GridSearchCV, train_test_split\n",
    "from sklearn.ensemble import RandomForestRegressor\n",
    "from sklearn.feature_selection import RFE"
   ]
  },
  {
   "cell_type": "code",
   "execution_count": 2,
   "id": "b3cd733f",
   "metadata": {},
   "outputs": [],
   "source": [
    "df = pd.DataFrame(pd.read_excel('C:\\\\Users\\\\gaszk\\\\Documents\\\\KAR\\\\SKRIPSHIT\\\\data\\\\BIGFIVE.xlsx'))\n",
    "df.to_csv('BIGFIVE.csv', index = None, header = True)"
   ]
  },
  {
   "cell_type": "code",
   "execution_count": 3,
   "id": "57768063",
   "metadata": {},
   "outputs": [
    {
     "data": {
      "text/html": [
       "<div>\n",
       "<style scoped>\n",
       "    .dataframe tbody tr th:only-of-type {\n",
       "        vertical-align: middle;\n",
       "    }\n",
       "\n",
       "    .dataframe tbody tr th {\n",
       "        vertical-align: top;\n",
       "    }\n",
       "\n",
       "    .dataframe thead th {\n",
       "        text-align: right;\n",
       "    }\n",
       "</style>\n",
       "<table border=\"1\" class=\"dataframe\">\n",
       "  <thead>\n",
       "    <tr style=\"text-align: right;\">\n",
       "      <th></th>\n",
       "      <th>Nama</th>\n",
       "      <th>Danceability</th>\n",
       "      <th>Energy</th>\n",
       "      <th>Speechiness</th>\n",
       "      <th>Acousticness</th>\n",
       "      <th>Instrumetalness</th>\n",
       "      <th>Liveness</th>\n",
       "      <th>Valence</th>\n",
       "      <th>Tempo</th>\n",
       "      <th>e</th>\n",
       "      <th>a</th>\n",
       "      <th>c</th>\n",
       "      <th>n</th>\n",
       "      <th>o</th>\n",
       "      <th>Angkatan</th>\n",
       "    </tr>\n",
       "  </thead>\n",
       "  <tbody>\n",
       "    <tr>\n",
       "      <th>0</th>\n",
       "      <td>BIMA</td>\n",
       "      <td>0.564429</td>\n",
       "      <td>0.867000</td>\n",
       "      <td>0.065052</td>\n",
       "      <td>0.066338</td>\n",
       "      <td>0.003463</td>\n",
       "      <td>0.295398</td>\n",
       "      <td>0.606595</td>\n",
       "      <td>142.703738</td>\n",
       "      <td>28</td>\n",
       "      <td>31</td>\n",
       "      <td>29</td>\n",
       "      <td>33</td>\n",
       "      <td>30</td>\n",
       "      <td>18</td>\n",
       "    </tr>\n",
       "    <tr>\n",
       "      <th>1</th>\n",
       "      <td>GALIH</td>\n",
       "      <td>0.640451</td>\n",
       "      <td>0.748083</td>\n",
       "      <td>0.073577</td>\n",
       "      <td>0.147558</td>\n",
       "      <td>0.051822</td>\n",
       "      <td>0.189778</td>\n",
       "      <td>0.480346</td>\n",
       "      <td>127.574218</td>\n",
       "      <td>22</td>\n",
       "      <td>29</td>\n",
       "      <td>21</td>\n",
       "      <td>22</td>\n",
       "      <td>39</td>\n",
       "      <td>18</td>\n",
       "    </tr>\n",
       "    <tr>\n",
       "      <th>2</th>\n",
       "      <td>DIVA</td>\n",
       "      <td>0.593477</td>\n",
       "      <td>0.548761</td>\n",
       "      <td>0.050318</td>\n",
       "      <td>0.415290</td>\n",
       "      <td>0.030824</td>\n",
       "      <td>0.159370</td>\n",
       "      <td>0.514500</td>\n",
       "      <td>110.935409</td>\n",
       "      <td>13</td>\n",
       "      <td>25</td>\n",
       "      <td>19</td>\n",
       "      <td>21</td>\n",
       "      <td>20</td>\n",
       "      <td>18</td>\n",
       "    </tr>\n",
       "    <tr>\n",
       "      <th>3</th>\n",
       "      <td>NISPUR</td>\n",
       "      <td>0.582821</td>\n",
       "      <td>0.562268</td>\n",
       "      <td>0.053425</td>\n",
       "      <td>0.379153</td>\n",
       "      <td>0.005340</td>\n",
       "      <td>0.167027</td>\n",
       "      <td>0.418779</td>\n",
       "      <td>120.543518</td>\n",
       "      <td>35</td>\n",
       "      <td>39</td>\n",
       "      <td>20</td>\n",
       "      <td>30</td>\n",
       "      <td>29</td>\n",
       "      <td>18</td>\n",
       "    </tr>\n",
       "    <tr>\n",
       "      <th>4</th>\n",
       "      <td>SUNU</td>\n",
       "      <td>0.521280</td>\n",
       "      <td>0.647800</td>\n",
       "      <td>0.035584</td>\n",
       "      <td>0.241890</td>\n",
       "      <td>0.043464</td>\n",
       "      <td>0.138768</td>\n",
       "      <td>0.522560</td>\n",
       "      <td>124.434640</td>\n",
       "      <td>9</td>\n",
       "      <td>25</td>\n",
       "      <td>23</td>\n",
       "      <td>23</td>\n",
       "      <td>23</td>\n",
       "      <td>18</td>\n",
       "    </tr>\n",
       "    <tr>\n",
       "      <th>...</th>\n",
       "      <td>...</td>\n",
       "      <td>...</td>\n",
       "      <td>...</td>\n",
       "      <td>...</td>\n",
       "      <td>...</td>\n",
       "      <td>...</td>\n",
       "      <td>...</td>\n",
       "      <td>...</td>\n",
       "      <td>...</td>\n",
       "      <td>...</td>\n",
       "      <td>...</td>\n",
       "      <td>...</td>\n",
       "      <td>...</td>\n",
       "      <td>...</td>\n",
       "      <td>...</td>\n",
       "    </tr>\n",
       "    <tr>\n",
       "      <th>196</th>\n",
       "      <td>NURLIANA</td>\n",
       "      <td>0.572567</td>\n",
       "      <td>0.590767</td>\n",
       "      <td>0.057467</td>\n",
       "      <td>0.286244</td>\n",
       "      <td>0.000112</td>\n",
       "      <td>0.176493</td>\n",
       "      <td>0.431833</td>\n",
       "      <td>134.592000</td>\n",
       "      <td>15</td>\n",
       "      <td>23</td>\n",
       "      <td>24</td>\n",
       "      <td>17</td>\n",
       "      <td>23</td>\n",
       "      <td>21</td>\n",
       "    </tr>\n",
       "    <tr>\n",
       "      <th>197</th>\n",
       "      <td>Syahrul 21</td>\n",
       "      <td>0.573233</td>\n",
       "      <td>0.567933</td>\n",
       "      <td>0.053863</td>\n",
       "      <td>0.357294</td>\n",
       "      <td>0.008958</td>\n",
       "      <td>0.167013</td>\n",
       "      <td>0.399730</td>\n",
       "      <td>123.068967</td>\n",
       "      <td>9</td>\n",
       "      <td>29</td>\n",
       "      <td>25</td>\n",
       "      <td>23</td>\n",
       "      <td>28</td>\n",
       "      <td>21</td>\n",
       "    </tr>\n",
       "    <tr>\n",
       "      <th>198</th>\n",
       "      <td>Azzahra Ghina Lutfiani</td>\n",
       "      <td>0.494367</td>\n",
       "      <td>0.482267</td>\n",
       "      <td>0.033080</td>\n",
       "      <td>0.574472</td>\n",
       "      <td>0.036431</td>\n",
       "      <td>0.156077</td>\n",
       "      <td>0.340237</td>\n",
       "      <td>128.072900</td>\n",
       "      <td>5</td>\n",
       "      <td>26</td>\n",
       "      <td>24</td>\n",
       "      <td>10</td>\n",
       "      <td>25</td>\n",
       "      <td>21</td>\n",
       "    </tr>\n",
       "    <tr>\n",
       "      <th>199</th>\n",
       "      <td>Fatimah Az Zahra</td>\n",
       "      <td>0.643600</td>\n",
       "      <td>0.565450</td>\n",
       "      <td>0.072705</td>\n",
       "      <td>0.326633</td>\n",
       "      <td>0.000364</td>\n",
       "      <td>0.130260</td>\n",
       "      <td>0.466685</td>\n",
       "      <td>119.251550</td>\n",
       "      <td>14</td>\n",
       "      <td>23</td>\n",
       "      <td>26</td>\n",
       "      <td>21</td>\n",
       "      <td>29</td>\n",
       "      <td>21</td>\n",
       "    </tr>\n",
       "    <tr>\n",
       "      <th>200</th>\n",
       "      <td>Dewi Arthasari</td>\n",
       "      <td>0.522133</td>\n",
       "      <td>0.407067</td>\n",
       "      <td>0.033727</td>\n",
       "      <td>0.706773</td>\n",
       "      <td>0.038620</td>\n",
       "      <td>0.114550</td>\n",
       "      <td>0.394770</td>\n",
       "      <td>114.192933</td>\n",
       "      <td>18</td>\n",
       "      <td>28</td>\n",
       "      <td>19</td>\n",
       "      <td>20</td>\n",
       "      <td>21</td>\n",
       "      <td>21</td>\n",
       "    </tr>\n",
       "  </tbody>\n",
       "</table>\n",
       "<p>201 rows × 15 columns</p>\n",
       "</div>"
      ],
      "text/plain": [
       "                       Nama  Danceability    Energy  Speechiness  \\\n",
       "0                      BIMA      0.564429  0.867000     0.065052   \n",
       "1                     GALIH      0.640451  0.748083     0.073577   \n",
       "2                      DIVA      0.593477  0.548761     0.050318   \n",
       "3                    NISPUR      0.582821  0.562268     0.053425   \n",
       "4                      SUNU      0.521280  0.647800     0.035584   \n",
       "..                      ...           ...       ...          ...   \n",
       "196                NURLIANA      0.572567  0.590767     0.057467   \n",
       "197              Syahrul 21      0.573233  0.567933     0.053863   \n",
       "198  Azzahra Ghina Lutfiani      0.494367  0.482267     0.033080   \n",
       "199        Fatimah Az Zahra      0.643600  0.565450     0.072705   \n",
       "200          Dewi Arthasari      0.522133  0.407067     0.033727   \n",
       "\n",
       "     Acousticness  Instrumetalness  Liveness   Valence       Tempo   e   a  \\\n",
       "0        0.066338         0.003463  0.295398  0.606595  142.703738  28  31   \n",
       "1        0.147558         0.051822  0.189778  0.480346  127.574218  22  29   \n",
       "2        0.415290         0.030824  0.159370  0.514500  110.935409  13  25   \n",
       "3        0.379153         0.005340  0.167027  0.418779  120.543518  35  39   \n",
       "4        0.241890         0.043464  0.138768  0.522560  124.434640   9  25   \n",
       "..            ...              ...       ...       ...         ...  ..  ..   \n",
       "196      0.286244         0.000112  0.176493  0.431833  134.592000  15  23   \n",
       "197      0.357294         0.008958  0.167013  0.399730  123.068967   9  29   \n",
       "198      0.574472         0.036431  0.156077  0.340237  128.072900   5  26   \n",
       "199      0.326633         0.000364  0.130260  0.466685  119.251550  14  23   \n",
       "200      0.706773         0.038620  0.114550  0.394770  114.192933  18  28   \n",
       "\n",
       "      c   n   o  Angkatan  \n",
       "0    29  33  30        18  \n",
       "1    21  22  39        18  \n",
       "2    19  21  20        18  \n",
       "3    20  30  29        18  \n",
       "4    23  23  23        18  \n",
       "..   ..  ..  ..       ...  \n",
       "196  24  17  23        21  \n",
       "197  25  23  28        21  \n",
       "198  24  10  25        21  \n",
       "199  26  21  29        21  \n",
       "200  19  20  21        21  \n",
       "\n",
       "[201 rows x 15 columns]"
      ]
     },
     "execution_count": 3,
     "metadata": {},
     "output_type": "execute_result"
    }
   ],
   "source": [
    "df"
   ]
  },
  {
   "cell_type": "code",
   "execution_count": 55,
   "id": "ede94705",
   "metadata": {
    "scrolled": true
   },
   "outputs": [],
   "source": [
    "df4['Acousticness'] = df4['Acousticness'].astype('float16')\n",
    "df4['Speechiness'] = df4['Speechiness'].astype('float16')\n",
    "df4['Danceability'] = df4['Danceability'].astype('float16')\n",
    "df4['Energy'] = df4['Energy'].astype('float16')\n",
    "df4['Instrumetalness'] = df4['Instrumetalness'].astype('float16')\n",
    "df4['Valence'] = df4['Valence'].astype('float16')\n",
    "df4['Liveness'] = df4['Liveness'].astype('float16')\n",
    "df4['e'] = df4['e'].astype(np.uint8)\n",
    "df4['a'] = df4['a'].astype(np.uint8)\n",
    "df4['c'] = df4['c'].astype(np.uint8)\n",
    "df4['n'] = df4['n'].astype(np.uint8)\n",
    "df4['o'] = df4['o'].astype(np.uint8)"
   ]
  },
  {
   "cell_type": "code",
   "execution_count": 57,
   "id": "71fbcfc9",
   "metadata": {},
   "outputs": [
    {
     "name": "stdout",
     "output_type": "stream",
     "text": [
      "<class 'pandas.core.frame.DataFrame'>\n",
      "RangeIndex: 201 entries, 0 to 200\n",
      "Data columns (total 12 columns):\n",
      " #   Column           Non-Null Count  Dtype  \n",
      "---  ------           --------------  -----  \n",
      " 0   Acousticness     201 non-null    float16\n",
      " 1   Danceability     201 non-null    float16\n",
      " 2   Energy           201 non-null    float16\n",
      " 3   Instrumetalness  201 non-null    float16\n",
      " 4   Valence          201 non-null    float16\n",
      " 5   Liveness         201 non-null    float16\n",
      " 6   Speechiness      201 non-null    float16\n",
      " 7   e                201 non-null    uint8  \n",
      " 8   a                201 non-null    uint8  \n",
      " 9   c                201 non-null    uint8  \n",
      " 10  n                201 non-null    uint8  \n",
      " 11  o                201 non-null    uint8  \n",
      "dtypes: float16(7), uint8(5)\n",
      "memory usage: 3.9 KB\n"
     ]
    },
    {
     "ename": "TypeError",
     "evalue": "'NoneType' object is not callable",
     "output_type": "error",
     "traceback": [
      "\u001b[1;31m---------------------------------------------------------------------------\u001b[0m",
      "\u001b[1;31mTypeError\u001b[0m                                 Traceback (most recent call last)",
      "\u001b[1;32m<ipython-input-57-03a6b1da36e6>\u001b[0m in \u001b[0;36m<module>\u001b[1;34m\u001b[0m\n\u001b[1;32m----> 1\u001b[1;33m \u001b[0mdf4\u001b[0m\u001b[1;33m.\u001b[0m\u001b[0minfo\u001b[0m\u001b[1;33m(\u001b[0m\u001b[1;33m)\u001b[0m\u001b[1;33m(\u001b[0m\u001b[0mmemory_usage\u001b[0m\u001b[1;33m=\u001b[0m\u001b[1;34m'deep'\u001b[0m\u001b[1;33m)\u001b[0m\u001b[1;33m\u001b[0m\u001b[1;33m\u001b[0m\u001b[0m\n\u001b[0m",
      "\u001b[1;31mTypeError\u001b[0m: 'NoneType' object is not callable"
     ]
    }
   ],
   "source": [
    "df4.info()(memory_usage='deep')"
   ]
  },
  {
   "cell_type": "code",
   "execution_count": 67,
   "id": "9bec379d",
   "metadata": {},
   "outputs": [
    {
     "data": {
      "text/plain": [
       "0      30\n",
       "1      39\n",
       "2      20\n",
       "3      29\n",
       "4      23\n",
       "       ..\n",
       "196    23\n",
       "197    28\n",
       "198    25\n",
       "199    29\n",
       "200    21\n",
       "Name: o, Length: 201, dtype: int64"
      ]
     },
     "execution_count": 67,
     "metadata": {},
     "output_type": "execute_result"
    }
   ],
   "source": [
    "y1 = df4.iloc[:, -1]\n",
    "y1"
   ]
  },
  {
   "cell_type": "code",
   "execution_count": 39,
   "id": "4955bd53",
   "metadata": {},
   "outputs": [],
   "source": [
    "df4 = df[['Acousticness','Danceability','Energy', 'Instrumetalness', 'Valence','Liveness','Speechiness','Tempo','e','a','c' ,'n' ,'o']]"
   ]
  },
  {
   "cell_type": "code",
   "execution_count": 40,
   "id": "ced88b30",
   "metadata": {},
   "outputs": [
    {
     "name": "stdout",
     "output_type": "stream",
     "text": [
      "Best parameters found:  {'bootstrap': False, 'criterion': 'poisson', 'max_depth': 6, 'max_features': None, 'max_samples': 1, 'min_samples_leaf': 1, 'min_samples_split': 2, 'n_estimators': 100, 'warm_start': True}\n",
      "Best score found:  -3.5955437834224613\n"
     ]
    },
    {
     "name": "stderr",
     "output_type": "stream",
     "text": [
      "C:\\ProgramData\\Anaconda3\\lib\\site-packages\\sklearn\\model_selection\\_search.py:918: UserWarning: One or more of the test scores are non-finite: [       nan        nan        nan ... -3.7761235 -3.7761235 -3.7761235]\n",
      "  warnings.warn(\n"
     ]
    }
   ],
   "source": [
    "X = df4.iloc[:, 1:-6]\n",
    "y1 = df4.iloc[:, -1]\n",
    "X_train, X_test, y1_train, y1_test = train_test_split(X, y1, test_size=0.1, random_state=0)\n",
    "\n",
    "regressor = RandomForestRegressor(random_state=0)\n",
    "\n",
    "param_grid = {'n_estimators': [100, 200, 300],\n",
    "              'max_depth': [4, 6, 8],\n",
    "              'min_samples_split': [2, 4, 6],\n",
    "              'min_samples_leaf': [1, 2, 4],\n",
    "              'bootstrap': [True, False],\n",
    "              'criterion': ['squared_error', 'absolute_error', 'friedman_mse', 'poisson'],\n",
    "              #'min_weight_fraction_leaf': [0.0, 0.2, 0.4, 0.6, 0.8, 1.0],\n",
    "              'max_features' : ['sqrt', 'log2', None],\n",
    "              #'max_leaf_nodes' : [1, 2, 4],\n",
    "              #'min_impurity_decrease' : [0.0, 0.2, 0.4, 0.6, 0.8, 1.0],\n",
    "              #'oob_score' : [True, False],\n",
    "              #'n_jobs' : [-2, -1, 0, 1, 2],\n",
    "              #'verbose' : [0, 2, 4, 6, 8],\n",
    "              'warm_start' : [True, False],\n",
    "              #'ccp_alpha' : [0.0, 0.2, 0.4, 0.6, 0.8, 1.0],\n",
    "              'max_samples' : [0, 1, 2, 3, 4, 5, 6, 7]\n",
    "             }\n",
    "\n",
    "scoring = 'neg_mean_absolute_error'\n",
    "\n",
    "grid_search = GridSearchCV(estimator=regressor, param_grid=param_grid, scoring=scoring, cv=5, n_jobs=-1)\n",
    "grid_search.fit(X_train, y1_train)\n",
    "\n",
    "print(\"Best parameters found: \",grid_search.best_params_)\n",
    "print(\"Best score found: \",grid_search.best_score_)"
   ]
  },
  {
   "cell_type": "code",
   "execution_count": 41,
   "id": "3a686335",
   "metadata": {},
   "outputs": [
    {
     "data": {
      "text/plain": [
       "array([22.72941176, 22.72941176, 22.72941176, 22.72941176, 22.72941176,\n",
       "       22.72941176, 22.72941176, 22.72941176, 22.72941176, 22.72941176,\n",
       "       22.72941176, 22.72941176, 22.72941176, 22.72941176, 22.72941176,\n",
       "       22.72941176, 22.72941176, 22.72941176, 22.72941176, 22.72941176,\n",
       "       22.72941176])"
      ]
     },
     "execution_count": 41,
     "metadata": {},
     "output_type": "execute_result"
    }
   ],
   "source": [
    "best_model = grid_search.best_estimator_\n",
    "y1_pred = best_model.predict(X_test)\n",
    "y1_pred"
   ]
  },
  {
   "cell_type": "code",
   "execution_count": 42,
   "id": "9ca3c909",
   "metadata": {
    "scrolled": true
   },
   "outputs": [
    {
     "name": "stdout",
     "output_type": "stream",
     "text": [
      "RMSE: 3.69204566417547\n",
      "MAE: 3.0823529411764703\n",
      "R-squared: -0.030401049568629768\n",
      "MAPE: 308.235294117647\n"
     ]
    }
   ],
   "source": [
    "# Calculate the RMSE\n",
    "rmse = np.sqrt(mean_squared_error(y1_test, y1_pred))\n",
    "\n",
    "# Calculate the MAE\n",
    "mae = mean_absolute_error(y1_test, y1_pred)\n",
    "\n",
    "# Calculate R-squared\n",
    "r2 = r2_score(y1_test, y1_pred)\n",
    "\n",
    "#MAPE\n",
    "mape = mean_absolute_error(y1_test, y1_pred)*100\n",
    "\n",
    "\n",
    "# Print the results\n",
    "print(\"RMSE:\", rmse)\n",
    "print(\"MAE:\", mae)\n",
    "print('R-squared:', r2)\n",
    "print('MAPE:' , mape)"
   ]
  },
  {
   "cell_type": "code",
   "execution_count": null,
   "id": "1f23d1a1",
   "metadata": {},
   "outputs": [],
   "source": []
  },
  {
   "cell_type": "code",
   "execution_count": 43,
   "id": "cdf99c7a",
   "metadata": {},
   "outputs": [
    {
     "name": "stderr",
     "output_type": "stream",
     "text": [
      "C:\\ProgramData\\Anaconda3\\lib\\site-packages\\sklearn\\model_selection\\_search.py:918: UserWarning: One or more of the test scores are non-finite: [        nan         nan         nan ... -6.1842957  -6.18212917\n",
      " -6.18212917]\n",
      "  warnings.warn(\n"
     ]
    },
    {
     "name": "stdout",
     "output_type": "stream",
     "text": [
      "Best parameters found:  {'bootstrap': False, 'criterion': 'friedman_mse', 'max_depth': 4, 'max_features': 'sqrt', 'max_samples': 1, 'min_samples_leaf': 2, 'min_samples_split': 6, 'n_estimators': 300, 'warm_start': True}\n",
      "Best score found:  -5.577526212015955\n"
     ]
    }
   ],
   "source": [
    "X = df4.iloc[:, 1:-6]\n",
    "y2 = df4.iloc[:, -2]\n",
    "X_train, X_test, y2_train, y2_test = train_test_split(X, y2, test_size=0.1, random_state=0)\n",
    "\n",
    "regressor = RandomForestRegressor(random_state=0)\n",
    "\n",
    "param_grid = {'n_estimators': [100, 200, 300],\n",
    "              'max_depth': [4, 6, 8],\n",
    "              'min_samples_split': [2, 4, 6],\n",
    "              'min_samples_leaf': [1, 2, 4],\n",
    "              'bootstrap': [True, False],\n",
    "              'criterion': ['squared_error', 'absolute_error', 'friedman_mse', 'poisson'],\n",
    "              #'min_weight_fraction_leaf': [0.0, 0.2, 0.4, 0.6, 0.8, 1.0],\n",
    "              'max_features' : ['sqrt', 'log2', None],\n",
    "              #'max_leaf_nodes' : [1, 2, 4],\n",
    "              #'min_impurity_decrease' : [0.0, 0.2, 0.4, 0.6, 0.8, 1.0],\n",
    "              #'oob_score' : [True, False],\n",
    "              #'n_jobs' : [-2, -1, 0, 1, 2],\n",
    "              #'verbose' : [0, 2, 4, 6, 8],\n",
    "              'warm_start' : [True,False],\n",
    "              #'ccp_alpha' : [0.0, 0.2, 0.4, 0.6, 0.8, 1.0],\n",
    "              'max_samples' : [0, 1, 2, 3, 4, 5, 6, 7]\n",
    "             }\n",
    "\n",
    "scoring = 'neg_mean_absolute_error'\n",
    "\n",
    "grid_search = GridSearchCV(estimator=regressor, param_grid=param_grid, scoring=scoring, cv=5, n_jobs=-1)\n",
    "grid_search.fit(X_train, y2_train)\n",
    "\n",
    "print(\"Best parameters found: \",grid_search.best_params_)\n",
    "print(\"Best score found: \",grid_search.best_score_)"
   ]
  },
  {
   "cell_type": "code",
   "execution_count": 44,
   "id": "fbcec994",
   "metadata": {},
   "outputs": [
    {
     "data": {
      "text/plain": [
       "array([17.23353517, 18.24100986, 18.27301412, 16.64332252, 17.41609607,\n",
       "       15.68946647, 13.34050501, 16.86885252, 17.05038888, 16.96924957,\n",
       "       15.99176136, 18.22234948, 15.83250262, 17.65687191, 17.2709053 ,\n",
       "       17.28935977, 14.86082864, 15.94397514, 16.0055414 , 17.38309236,\n",
       "       17.13462416])"
      ]
     },
     "execution_count": 44,
     "metadata": {},
     "output_type": "execute_result"
    }
   ],
   "source": [
    "best_model = grid_search.best_estimator_\n",
    "y2_pred = best_model.predict(X_test)\n",
    "y2_pred"
   ]
  },
  {
   "cell_type": "code",
   "execution_count": 45,
   "id": "fa813cfa",
   "metadata": {},
   "outputs": [
    {
     "name": "stdout",
     "output_type": "stream",
     "text": [
      "RMSE: 5.167739766400052\n",
      "MAE: 4.377154311184837\n",
      "R-squared: 0.006148470606285428\n",
      "MAPE: 437.7154311184837\n"
     ]
    }
   ],
   "source": [
    "# Calculate the RMSE\n",
    "rmse = np.sqrt(mean_squared_error(y2_test, y2_pred))\n",
    "\n",
    "# Calculate the MAE\n",
    "mae = mean_absolute_error(y2_test, y2_pred)\n",
    "\n",
    "# Calculate R-squared\n",
    "r2 = r2_score(y2_test, y2_pred)\n",
    "\n",
    "#MAPE\n",
    "mape = mean_absolute_error(y2_test, y2_pred)*100\n",
    "\n",
    "\n",
    "# Print the results\n",
    "print(\"RMSE:\", rmse)\n",
    "print(\"MAE:\", mae)\n",
    "print('R-squared:', r2)\n",
    "print('MAPE:' , mape)"
   ]
  },
  {
   "cell_type": "code",
   "execution_count": null,
   "id": "bd003501",
   "metadata": {},
   "outputs": [],
   "source": []
  },
  {
   "cell_type": "code",
   "execution_count": 46,
   "id": "81190ad0",
   "metadata": {
    "scrolled": true
   },
   "outputs": [
    {
     "name": "stderr",
     "output_type": "stream",
     "text": [
      "C:\\ProgramData\\Anaconda3\\lib\\site-packages\\sklearn\\model_selection\\_search.py:918: UserWarning: One or more of the test scores are non-finite: [        nan         nan         nan ... -4.9814401  -4.98012945\n",
      " -4.98012945]\n",
      "  warnings.warn(\n"
     ]
    },
    {
     "name": "stdout",
     "output_type": "stream",
     "text": [
      "Best parameters found:  {'bootstrap': True, 'criterion': 'friedman_mse', 'max_depth': 4, 'max_features': 'sqrt', 'max_samples': 4, 'min_samples_leaf': 1, 'min_samples_split': 2, 'n_estimators': 300, 'warm_start': True}\n",
      "Best score found:  -4.41975\n"
     ]
    }
   ],
   "source": [
    "X = df4.iloc[:, 1:-6]\n",
    "y3 = df4.iloc[:, -3]\n",
    "X_train, X_test, y3_train, y3_test = train_test_split(X, y3, test_size=0.1, random_state=0)\n",
    "\n",
    "regressor = RandomForestRegressor(random_state=0)\n",
    "\n",
    "param_grid = {'n_estimators': [100, 200, 300],\n",
    "              'max_depth': [4, 6, 8],\n",
    "              'min_samples_split': [2, 4, 6],\n",
    "              'min_samples_leaf': [1, 2, 4],\n",
    "              'bootstrap': [True, False],\n",
    "              'criterion': ['squared_error', 'absolute_error', 'friedman_mse', 'poisson'],\n",
    "              #'min_weight_fraction_leaf': [0.0, 0.2, 0.4, 0.6, 0.8, 1.0],\n",
    "              'max_features' : ['sqrt', 'log2', None],\n",
    "              #'max_leaf_nodes' : [1, 2, 4],\n",
    "              #'min_impurity_decrease' : [0.0, 0.2, 0.4, 0.6, 0.8, 1.0],\n",
    "              #'oob_score' : [True, False],\n",
    "              #'n_jobs' : [-2, -1, 0, 1, 2],\n",
    "              #'verbose' : [0, 2, 4, 6, 8],\n",
    "              'warm_start' : [True, False],\n",
    "              #'ccp_alpha' : [0.0, 0.2, 0.4, 0.6, 0.8, 1.0],\n",
    "              'max_samples' : [0, 1, 2, 3, 4, 5, 6, 7]\n",
    "             }\n",
    "\n",
    "scoring = 'neg_mean_absolute_error'\n",
    "\n",
    "grid_search = GridSearchCV(estimator=regressor, param_grid=param_grid, scoring=scoring, cv=5, n_jobs=-1)\n",
    "grid_search.fit(X_train, y3_train)\n",
    "\n",
    "print(\"Best parameters found: \",grid_search.best_params_)\n",
    "print(\"Best score found: \",grid_search.best_score_)"
   ]
  },
  {
   "cell_type": "code",
   "execution_count": 47,
   "id": "54f3cac7",
   "metadata": {},
   "outputs": [
    {
     "data": {
      "text/plain": [
       "array([25.37      , 25.32666667, 24.79      , 25.01333333, 25.77      ,\n",
       "       25.4       , 25.46      , 25.77333333, 25.83      , 25.26333333,\n",
       "       25.96333333, 24.91333333, 25.67333333, 25.17333333, 25.42      ,\n",
       "       25.47666667, 24.92333333, 26.00333333, 25.45      , 24.77      ,\n",
       "       24.45666667])"
      ]
     },
     "execution_count": 47,
     "metadata": {},
     "output_type": "execute_result"
    }
   ],
   "source": [
    "best_model = grid_search.best_estimator_\n",
    "y3_pred = best_model.predict(X_test)\n",
    "y3_pred"
   ]
  },
  {
   "cell_type": "code",
   "execution_count": 48,
   "id": "d856c5f8",
   "metadata": {},
   "outputs": [
    {
     "name": "stdout",
     "output_type": "stream",
     "text": [
      "RMSE: 5.672662374291142\n",
      "MAE: 4.6742857142857135\n",
      "R-squared: 0.05241837606837585\n",
      "MAPE: 467.42857142857133\n"
     ]
    }
   ],
   "source": [
    "# Calculate the RMSE\n",
    "rmse = np.sqrt(mean_squared_error(y3_test, y3_pred))\n",
    "\n",
    "# Calculate the MAE\n",
    "mae = mean_absolute_error(y3_test, y3_pred)\n",
    "\n",
    "# Calculate R-squared\n",
    "r2 = r2_score(y3_test, y3_pred)\n",
    "\n",
    "#MAPE\n",
    "mape = mean_absolute_error(y3_test, y3_pred)*100\n",
    "\n",
    "\n",
    "# Print the results\n",
    "print(\"RMSE:\", rmse)\n",
    "print(\"MAE:\", mae)\n",
    "print('R-squared:', r2)\n",
    "print('MAPE:' , mape)"
   ]
  },
  {
   "cell_type": "code",
   "execution_count": null,
   "id": "57c46e3c",
   "metadata": {},
   "outputs": [],
   "source": []
  },
  {
   "cell_type": "code",
   "execution_count": 49,
   "id": "daa12a5b",
   "metadata": {},
   "outputs": [
    {
     "name": "stdout",
     "output_type": "stream",
     "text": [
      "Best parameters found:  {'bootstrap': True, 'criterion': 'friedman_mse', 'max_depth': 4, 'max_features': 'sqrt', 'max_samples': 1, 'min_samples_leaf': 1, 'min_samples_split': 2, 'n_estimators': 100, 'warm_start': True}\n",
      "Best score found:  -3.809666666666667\n"
     ]
    },
    {
     "name": "stderr",
     "output_type": "stream",
     "text": [
      "C:\\ProgramData\\Anaconda3\\lib\\site-packages\\sklearn\\model_selection\\_search.py:918: UserWarning: One or more of the test scores are non-finite: [        nan         nan         nan ... -4.31430724 -4.31405261\n",
      " -4.31405261]\n",
      "  warnings.warn(\n"
     ]
    }
   ],
   "source": [
    "X = df4.iloc[:, 1:-6]\n",
    "y4 = df4.iloc[:, -4]\n",
    "X_train, X_test, y4_train, y4_test = train_test_split(X, y4, test_size=0.1, random_state=0)\n",
    "\n",
    "regressor = RandomForestRegressor(random_state=0)\n",
    "\n",
    "param_grid = {'n_estimators': [100, 200, 300],\n",
    "              'max_depth': [4, 6, 8],\n",
    "              'min_samples_split': [2, 4, 6],\n",
    "              'min_samples_leaf': [1, 2, 4],\n",
    "              'bootstrap': [True, False],\n",
    "              'criterion': ['squared_error', 'absolute_error', 'friedman_mse', 'poisson'],\n",
    "              #'min_weight_fraction_leaf': [0.0, 0.2, 0.4, 0.6, 0.8, 1.0],\n",
    "              'max_features' : ['sqrt', 'log2', None],\n",
    "              #'max_leaf_nodes' : [1, 2, 4],\n",
    "              #'min_impurity_decrease' : [0.0, 0.2, 0.4, 0.6, 0.8, 1.0],\n",
    "              #'oob_score' : [True, False],\n",
    "              #'n_jobs' : [-2, -1, 0, 1, 2],\n",
    "              #'verbose' : [0, 2, 4, 6, 8],\n",
    "              'warm_start' : [True, False],\n",
    "              #'ccp_alpha' : [0.0, 0.2, 0.4, 0.6, 0.8, 1.0],\n",
    "              'max_samples' : [0, 1, 2, 3, 4, 5, 6, 7]\n",
    "             }\n",
    "\n",
    "scoring = 'neg_mean_absolute_error'\n",
    "\n",
    "grid_search = GridSearchCV(estimator=regressor, param_grid=param_grid, scoring=scoring, cv=5, n_jobs=-1)\n",
    "grid_search.fit(X_train, y4_train)\n",
    "\n",
    "print(\"Best parameters found: \",grid_search.best_params_)\n",
    "print(\"Best score found: \",grid_search.best_score_)"
   ]
  },
  {
   "cell_type": "code",
   "execution_count": 50,
   "id": "d42b6735",
   "metadata": {},
   "outputs": [
    {
     "data": {
      "text/plain": [
       "array([26.73, 26.73, 26.73, 26.73, 26.73, 26.73, 26.73, 26.73, 26.73,\n",
       "       26.73, 26.73, 26.73, 26.73, 26.73, 26.73, 26.73, 26.73, 26.73,\n",
       "       26.73, 26.73, 26.73])"
      ]
     },
     "execution_count": 50,
     "metadata": {},
     "output_type": "execute_result"
    }
   ],
   "source": [
    "best_model = grid_search.best_estimator_\n",
    "y4_pred = best_model.predict(X_test)\n",
    "y4_pred"
   ]
  },
  {
   "cell_type": "code",
   "execution_count": 51,
   "id": "9210bc51",
   "metadata": {},
   "outputs": [
    {
     "name": "stdout",
     "output_type": "stream",
     "text": [
      "RMSE: 5.603786559954243\n",
      "MAE: 4.030952380952382\n",
      "R-squared: -0.18342752520936578\n",
      "MAPE: 403.0952380952382\n"
     ]
    }
   ],
   "source": [
    "# Calculate the RMSE\n",
    "rmse = np.sqrt(mean_squared_error(y4_test, y4_pred))\n",
    "\n",
    "# Calculate the MAE\n",
    "mae = mean_absolute_error(y4_test, y4_pred)\n",
    "\n",
    "# Calculate R-squared\n",
    "r2 = r2_score(y4_test, y4_pred)\n",
    "\n",
    "#MAPE\n",
    "mape = mean_absolute_error(y4_test, y4_pred)*100\n",
    "\n",
    "\n",
    "# Print the results\n",
    "print(\"RMSE:\", rmse)\n",
    "print(\"MAE:\", mae)\n",
    "print('R-squared:', r2)\n",
    "print('MAPE:' , mape)"
   ]
  },
  {
   "cell_type": "code",
   "execution_count": null,
   "id": "23819f95",
   "metadata": {},
   "outputs": [],
   "source": []
  },
  {
   "cell_type": "code",
   "execution_count": 52,
   "id": "d8591402",
   "metadata": {},
   "outputs": [
    {
     "name": "stdout",
     "output_type": "stream",
     "text": [
      "Best parameters found:  {'bootstrap': True, 'criterion': 'friedman_mse', 'max_depth': 4, 'max_features': 'sqrt', 'max_samples': 2, 'min_samples_leaf': 1, 'min_samples_split': 2, 'n_estimators': 100, 'warm_start': True}\n",
      "Best score found:  -5.060388888888889\n"
     ]
    },
    {
     "name": "stderr",
     "output_type": "stream",
     "text": [
      "C:\\ProgramData\\Anaconda3\\lib\\site-packages\\sklearn\\model_selection\\_search.py:918: UserWarning: One or more of the test scores are non-finite: [        nan         nan         nan ... -5.42262387 -5.42488653\n",
      " -5.42488653]\n",
      "  warnings.warn(\n"
     ]
    }
   ],
   "source": [
    "X = df4.iloc[:, 1:-6]\n",
    "y5 = df4.iloc[:, -5]\n",
    "X_train, X_test, y5_train, y5_test = train_test_split(X, y5, test_size=0.1, random_state=0)\n",
    "\n",
    "regressor = RandomForestRegressor(random_state=0)\n",
    "\n",
    "param_grid = {'n_estimators': [100, 200, 300],\n",
    "              'max_depth': [4, 6, 8],\n",
    "              'min_samples_split': [2, 4, 6],\n",
    "              'min_samples_leaf': [1, 2, 4],\n",
    "              'bootstrap': [True, False],\n",
    "              'criterion': ['squared_error', 'absolute_error', 'friedman_mse', 'poisson'],\n",
    "              #'min_weight_fraction_leaf': [0.0, 0.2, 0.4, 0.6, 0.8, 1.0],\n",
    "              'max_features' : ['sqrt', 'log2', None],\n",
    "              #'max_leaf_nodes' : [1, 2, 4],\n",
    "              #'min_impurity_decrease' : [0.0, 0.2, 0.4, 0.6, 0.8, 1.0],\n",
    "              #'oob_score' : [True, False],\n",
    "              #'n_jobs' : [-2, -1, 0, 1, 2],\n",
    "              #'verbose' : [0, 2, 4, 6, 8],\n",
    "              'warm_start' : [True, False],\n",
    "              #'ccp_alpha' : [0.0, 0.2, 0.4, 0.6, 0.8, 1.0],\n",
    "              'max_samples' : [0, 1, 2, 3, 4, 5, 6, 7]\n",
    "             }\n",
    "\n",
    "scoring = 'neg_mean_absolute_error'\n",
    "\n",
    "grid_search = GridSearchCV(estimator=regressor, param_grid=param_grid, scoring=scoring, cv=5, n_jobs=-1)\n",
    "grid_search.fit(X_train, y5_train)\n",
    "\n",
    "print(\"Best parameters found: \",grid_search.best_params_)\n",
    "print(\"Best score found: \",grid_search.best_score_)"
   ]
  },
  {
   "cell_type": "code",
   "execution_count": 53,
   "id": "f43b9f3d",
   "metadata": {},
   "outputs": [
    {
     "data": {
      "text/plain": [
       "array([16.3 , 16.95, 15.92, 16.49, 16.57, 16.13, 16.46, 16.22, 16.07,\n",
       "       16.57, 16.38, 16.33, 16.33, 16.02, 16.7 , 16.44, 16.25, 16.44,\n",
       "       16.57, 16.58, 16.23])"
      ]
     },
     "execution_count": 53,
     "metadata": {},
     "output_type": "execute_result"
    }
   ],
   "source": [
    "best_model = grid_search.best_estimator_\n",
    "y5_pred = best_model.predict(X_test)\n",
    "y5_pred"
   ]
  },
  {
   "cell_type": "code",
   "execution_count": 54,
   "id": "1522f457",
   "metadata": {},
   "outputs": [
    {
     "name": "stdout",
     "output_type": "stream",
     "text": [
      "RMSE: 6.123363143769623\n",
      "MAE: 5.000476190476191\n",
      "R-squared: -0.02285964988246958\n",
      "MAPE: 500.0476190476191\n"
     ]
    }
   ],
   "source": [
    "# Calculate the RMSE\n",
    "rmse = np.sqrt(mean_squared_error(y5_test, y5_pred))\n",
    "\n",
    "# Calculate the MAE\n",
    "mae = mean_absolute_error(y5_test, y5_pred)\n",
    "\n",
    "# Calculate R-squared\n",
    "r2 = r2_score(y5_test, y5_pred)\n",
    "\n",
    "#MAPE\n",
    "mape = mean_absolute_error(y5_test, y5_pred)*100\n",
    "\n",
    "\n",
    "# Print the results\n",
    "print(\"RMSE:\", rmse)\n",
    "print(\"MAE:\", mae)\n",
    "print('R-squared:', r2)\n",
    "print('MAPE:' , mape)"
   ]
  },
  {
   "cell_type": "code",
   "execution_count": null,
   "id": "a2d23314",
   "metadata": {},
   "outputs": [],
   "source": []
  },
  {
   "cell_type": "code",
   "execution_count": 24,
   "id": "abfb9a35",
   "metadata": {
    "scrolled": true
   },
   "outputs": [
    {
     "name": "stdout",
     "output_type": "stream",
     "text": [
      "(201, 8)\n"
     ]
    },
    {
     "data": {
      "text/html": [
       "<div>\n",
       "<style scoped>\n",
       "    .dataframe tbody tr th:only-of-type {\n",
       "        vertical-align: middle;\n",
       "    }\n",
       "\n",
       "    .dataframe tbody tr th {\n",
       "        vertical-align: top;\n",
       "    }\n",
       "\n",
       "    .dataframe thead th {\n",
       "        text-align: right;\n",
       "    }\n",
       "</style>\n",
       "<table border=\"1\" class=\"dataframe\">\n",
       "  <thead>\n",
       "    <tr style=\"text-align: right;\">\n",
       "      <th></th>\n",
       "      <th>Acousticness</th>\n",
       "      <th>Danceability</th>\n",
       "      <th>Energy</th>\n",
       "      <th>Instrumetalness</th>\n",
       "      <th>Valence</th>\n",
       "      <th>Liveness</th>\n",
       "      <th>Speechiness</th>\n",
       "      <th>Tempo</th>\n",
       "    </tr>\n",
       "  </thead>\n",
       "  <tbody>\n",
       "    <tr>\n",
       "      <th>0</th>\n",
       "      <td>True</td>\n",
       "      <td>True</td>\n",
       "      <td>False</td>\n",
       "      <td>True</td>\n",
       "      <td>True</td>\n",
       "      <td>False</td>\n",
       "      <td>True</td>\n",
       "      <td>False</td>\n",
       "    </tr>\n",
       "    <tr>\n",
       "      <th>1</th>\n",
       "      <td>True</td>\n",
       "      <td>True</td>\n",
       "      <td>True</td>\n",
       "      <td>True</td>\n",
       "      <td>True</td>\n",
       "      <td>True</td>\n",
       "      <td>True</td>\n",
       "      <td>True</td>\n",
       "    </tr>\n",
       "    <tr>\n",
       "      <th>2</th>\n",
       "      <td>True</td>\n",
       "      <td>True</td>\n",
       "      <td>True</td>\n",
       "      <td>True</td>\n",
       "      <td>True</td>\n",
       "      <td>True</td>\n",
       "      <td>True</td>\n",
       "      <td>True</td>\n",
       "    </tr>\n",
       "    <tr>\n",
       "      <th>3</th>\n",
       "      <td>True</td>\n",
       "      <td>True</td>\n",
       "      <td>True</td>\n",
       "      <td>True</td>\n",
       "      <td>True</td>\n",
       "      <td>True</td>\n",
       "      <td>True</td>\n",
       "      <td>True</td>\n",
       "    </tr>\n",
       "    <tr>\n",
       "      <th>4</th>\n",
       "      <td>True</td>\n",
       "      <td>True</td>\n",
       "      <td>True</td>\n",
       "      <td>True</td>\n",
       "      <td>True</td>\n",
       "      <td>True</td>\n",
       "      <td>True</td>\n",
       "      <td>True</td>\n",
       "    </tr>\n",
       "  </tbody>\n",
       "</table>\n",
       "</div>"
      ],
      "text/plain": [
       "   Acousticness  Danceability  Energy  Instrumetalness  Valence  Liveness  \\\n",
       "0          True          True   False             True     True     False   \n",
       "1          True          True    True             True     True      True   \n",
       "2          True          True    True             True     True      True   \n",
       "3          True          True    True             True     True      True   \n",
       "4          True          True    True             True     True      True   \n",
       "\n",
       "   Speechiness  Tempo  \n",
       "0         True  False  \n",
       "1         True   True  \n",
       "2         True   True  \n",
       "3         True   True  \n",
       "4         True   True  "
      ]
     },
     "execution_count": 24,
     "metadata": {},
     "output_type": "execute_result"
    }
   ],
   "source": [
    "df3 = np.abs(df4[['Acousticness','Danceability','Energy','Instrumetalness', 'Valence', 'Liveness', 'Speechiness','Tempo']] - df4[['Acousticness','Danceability','Energy','Instrumetalness', 'Valence', 'Liveness', 'Speechiness','Tempo']].mean())<=(2*df4[['Acousticness','Danceability','Energy','Instrumetalness', 'Valence', 'Liveness', 'Speechiness','Tempo']].std())\n",
    "print(df3.shape)\n",
    "df3.head()"
   ]
  },
  {
   "cell_type": "code",
   "execution_count": 55,
   "id": "5930ab32",
   "metadata": {},
   "outputs": [],
   "source": [
    "df2 = df4[df3.Acousticness & df3.Danceability & df3.Energy & df3.Instrumetalness\t & df3.Valence\t& df3.Liveness\t& df3.Speechiness &df3.Tempo]"
   ]
  },
  {
   "cell_type": "code",
   "execution_count": 56,
   "id": "5b1d390c",
   "metadata": {},
   "outputs": [
    {
     "name": "stderr",
     "output_type": "stream",
     "text": [
      "C:\\ProgramData\\Anaconda3\\lib\\site-packages\\sklearn\\model_selection\\_search.py:918: UserWarning: One or more of the test scores are non-finite: [        nan         nan         nan ... -3.99797791 -3.99797236\n",
      " -3.99797236]\n",
      "  warnings.warn(\n"
     ]
    },
    {
     "name": "stdout",
     "output_type": "stream",
     "text": [
      "Best parameters found:  {'bootstrap': True, 'criterion': 'friedman_mse', 'max_depth': 4, 'max_features': 'sqrt', 'max_samples': 4, 'min_samples_leaf': 1, 'min_samples_split': 6, 'n_estimators': 300, 'warm_start': True}\n",
      "Best score found:  -3.6025010752688176\n"
     ]
    }
   ],
   "source": [
    "X = df2.iloc[:, 1:-6]\n",
    "y1 = df2.iloc[:, -1]\n",
    "X_train, X_test, y1_train, y1_test = train_test_split(X, y1, test_size=0.1, random_state=0)\n",
    "\n",
    "regressor = RandomForestRegressor(random_state=0)\n",
    "\n",
    "param_grid = {'n_estimators': [100, 200, 300],\n",
    "              'max_depth': [4, 6, 8],\n",
    "              'min_samples_split': [2, 4, 6],\n",
    "              'min_samples_leaf': [1, 2, 4],\n",
    "              'bootstrap': [True, False],\n",
    "              'criterion': ['squared_error', 'absolute_error', 'friedman_mse', 'poisson'],\n",
    "              #'min_weight_fraction_leaf': [0.0, 0.2, 0.4, 0.6, 0.8, 1.0],\n",
    "              'max_features' : ['sqrt', 'log2', None],\n",
    "              #'max_leaf_nodes' : [1, 2, 4],\n",
    "              #'min_impurity_decrease' : [0.0, 0.2, 0.4, 0.6, 0.8, 1.0],\n",
    "              #'oob_score' : [True, False],\n",
    "              #'n_jobs' : [-2, -1, 0, 1, 2],\n",
    "              #'verbose' : [0, 2, 4, 6, 8],\n",
    "              'warm_start' : [True, False],\n",
    "              #'ccp_alpha' : [0.0, 0.2, 0.4, 0.6, 0.8, 1.0],\n",
    "              'max_samples' : [0, 1, 2, 3, 4, 5, 6, 7]\n",
    "             }\n",
    "\n",
    "scoring = 'neg_mean_absolute_error'\n",
    "\n",
    "grid_search = GridSearchCV(estimator=regressor, param_grid=param_grid, scoring=scoring, cv=5, n_jobs=-1)\n",
    "grid_search.fit(X_train, y1_train)\n",
    "\n",
    "print(\"Best parameters found: \",grid_search.best_params_)\n",
    "print(\"Best score found: \",grid_search.best_score_)"
   ]
  },
  {
   "cell_type": "code",
   "execution_count": 57,
   "id": "7226811d",
   "metadata": {},
   "outputs": [
    {
     "data": {
      "text/plain": [
       "array([22.84416667, 22.84416667, 22.84416667, 22.84416667, 22.84416667,\n",
       "       22.84416667, 22.84416667, 22.84416667, 22.84416667, 22.84416667,\n",
       "       22.84416667, 22.84416667, 22.84416667, 22.84416667, 22.84416667,\n",
       "       22.84416667, 22.84416667])"
      ]
     },
     "execution_count": 57,
     "metadata": {},
     "output_type": "execute_result"
    }
   ],
   "source": [
    "best_model = grid_search.best_estimator_\n",
    "y1_pred = best_model.predict(X_test)\n",
    "y1_pred"
   ]
  },
  {
   "cell_type": "code",
   "execution_count": 58,
   "id": "ee3666f7",
   "metadata": {},
   "outputs": [
    {
     "name": "stdout",
     "output_type": "stream",
     "text": [
      "RMSE: 4.9983006630227695\n",
      "MAE: 3.9686764705882354\n",
      "R-squared: -0.05649542737700375\n",
      "MAPE: 396.86764705882354\n"
     ]
    }
   ],
   "source": [
    "# Calculate the RMSE\n",
    "rmse = np.sqrt(mean_squared_error(y1_test, y1_pred))\n",
    "\n",
    "# Calculate the MAE\n",
    "mae = mean_absolute_error(y1_test, y1_pred)\n",
    "\n",
    "# Calculate R-squared\n",
    "r2 = r2_score(y1_test, y1_pred)\n",
    "\n",
    "#MAPE\n",
    "mape = mean_absolute_error(y1_test, y1_pred)*100\n",
    "\n",
    "\n",
    "# Print the results\n",
    "print(\"RMSE:\", rmse)\n",
    "print(\"MAE:\", mae)\n",
    "print('R-squared:', r2)\n",
    "print('MAPE:' , mape)"
   ]
  },
  {
   "cell_type": "code",
   "execution_count": null,
   "id": "c0178186",
   "metadata": {},
   "outputs": [],
   "source": []
  },
  {
   "cell_type": "code",
   "execution_count": null,
   "id": "7ca7ada0",
   "metadata": {},
   "outputs": [],
   "source": []
  },
  {
   "cell_type": "code",
   "execution_count": null,
   "id": "1e6ff878",
   "metadata": {},
   "outputs": [],
   "source": []
  },
  {
   "cell_type": "code",
   "execution_count": null,
   "id": "1b1462ea",
   "metadata": {},
   "outputs": [],
   "source": []
  },
  {
   "cell_type": "code",
   "execution_count": 59,
   "id": "eee3ff8d",
   "metadata": {},
   "outputs": [
    {
     "name": "stdout",
     "output_type": "stream",
     "text": [
      "Best parameters found:  {'bootstrap': False, 'criterion': 'poisson', 'max_depth': 6, 'max_features': 'sqrt', 'max_samples': 1, 'min_samples_leaf': 2, 'min_samples_split': 6, 'n_estimators': 100, 'warm_start': True}\n",
      "Best score found:  -5.449875567655718\n"
     ]
    },
    {
     "name": "stderr",
     "output_type": "stream",
     "text": [
      "C:\\ProgramData\\Anaconda3\\lib\\site-packages\\sklearn\\model_selection\\_search.py:918: UserWarning: One or more of the test scores are non-finite: [        nan         nan         nan ... -5.72590129 -5.72652172\n",
      " -5.72652172]\n",
      "  warnings.warn(\n"
     ]
    }
   ],
   "source": [
    "X = df2.iloc[:, 1:-6]\n",
    "y2 = df2.iloc[:, -2]\n",
    "X_train, X_test, y2_train, y2_test = train_test_split(X, y2, test_size=0.1, random_state=0)\n",
    "\n",
    "regressor = RandomForestRegressor(random_state=0)\n",
    "\n",
    "param_grid = {'n_estimators': [100, 200, 300],\n",
    "              'max_depth': [4, 6, 8],\n",
    "              'min_samples_split': [2, 4, 6],\n",
    "              'min_samples_leaf': [1, 2, 4],\n",
    "              'bootstrap': [True, False],\n",
    "              'criterion': ['squared_error', 'absolute_error', 'friedman_mse', 'poisson'],\n",
    "              #'min_weight_fraction_leaf': [0.0, 0.2, 0.4, 0.6, 0.8, 1.0],\n",
    "              'max_features' : ['sqrt', 'log2', None],\n",
    "              #'max_leaf_nodes' : [1, 2, 4],\n",
    "              #'min_impurity_decrease' : [0.0, 0.2, 0.4, 0.6, 0.8, 1.0],\n",
    "              #'oob_score' : [True, False],\n",
    "              #'n_jobs' : [-2, -1, 0, 1, 2],\n",
    "              #'verbose' : [0, 2, 4, 6, 8],\n",
    "              'warm_start' : [True, False],\n",
    "              #'ccp_alpha' : [0.0, 0.2, 0.4, 0.6, 0.8, 1.0],\n",
    "              'max_samples' : [0, 1, 2, 3, 4, 5, 6, 7]\n",
    "             }\n",
    "\n",
    "scoring = 'neg_mean_absolute_error'\n",
    "\n",
    "grid_search = GridSearchCV(estimator=regressor, param_grid=param_grid, scoring=scoring, cv=5, n_jobs=-1)\n",
    "grid_search.fit(X_train, y2_train)\n",
    "\n",
    "print(\"Best parameters found: \",grid_search.best_params_)\n",
    "print(\"Best score found: \",grid_search.best_score_)"
   ]
  },
  {
   "cell_type": "code",
   "execution_count": 60,
   "id": "ff8b2cde",
   "metadata": {
    "scrolled": false
   },
   "outputs": [
    {
     "data": {
      "text/plain": [
       "array([17.09481901, 16.22101328, 17.09253932, 16.71753932, 21.14961111,\n",
       "       19.87995346, 16.23461534, 17.30198869, 18.1496307 , 16.22101328,\n",
       "       16.22101328, 16.27309995, 16.22101328, 16.22101328, 16.22101328,\n",
       "       16.22101328, 16.22101328])"
      ]
     },
     "execution_count": 60,
     "metadata": {},
     "output_type": "execute_result"
    }
   ],
   "source": [
    "best_model = grid_search.best_estimator_\n",
    "y2_pred = best_model.predict(X_test)\n",
    "y2_pred"
   ]
  },
  {
   "cell_type": "code",
   "execution_count": 61,
   "id": "6b10dc04",
   "metadata": {},
   "outputs": [
    {
     "name": "stdout",
     "output_type": "stream",
     "text": [
      "RMSE: 6.971284633225604\n",
      "MAE: 5.835960951604875\n",
      "R-squared: -0.10817862769625286\n",
      "MAPE: 583.5960951604875\n"
     ]
    }
   ],
   "source": [
    "# Calculate the RMSE\n",
    "rmse = np.sqrt(mean_squared_error(y2_test, y2_pred))\n",
    "\n",
    "# Calculate the MAE\n",
    "mae = mean_absolute_error(y2_test, y2_pred)\n",
    "\n",
    "# Calculate R-squared\n",
    "r2 = r2_score(y2_test, y2_pred)\n",
    "\n",
    "#MAPE\n",
    "mape = mean_absolute_error(y2_test, y2_pred)*100\n",
    "\n",
    "\n",
    "# Print the results\n",
    "print(\"RMSE:\", rmse)\n",
    "print(\"MAE:\", mae)\n",
    "print('R-squared:', r2)\n",
    "print('MAPE:' , mape)"
   ]
  },
  {
   "cell_type": "code",
   "execution_count": null,
   "id": "e8c5ee40",
   "metadata": {},
   "outputs": [],
   "source": []
  },
  {
   "cell_type": "code",
   "execution_count": 62,
   "id": "9b31c625",
   "metadata": {},
   "outputs": [
    {
     "name": "stdout",
     "output_type": "stream",
     "text": [
      "Best parameters found:  {'bootstrap': True, 'criterion': 'friedman_mse', 'max_depth': 4, 'max_features': None, 'max_samples': 4, 'min_samples_leaf': 1, 'min_samples_split': 2, 'n_estimators': 100, 'warm_start': True}\n",
      "Best score found:  -4.620382795698925\n"
     ]
    },
    {
     "name": "stderr",
     "output_type": "stream",
     "text": [
      "C:\\ProgramData\\Anaconda3\\lib\\site-packages\\sklearn\\model_selection\\_search.py:918: UserWarning: One or more of the test scores are non-finite: [        nan         nan         nan ... -5.13802373 -5.13492757\n",
      " -5.13492757]\n",
      "  warnings.warn(\n"
     ]
    }
   ],
   "source": [
    "X = df2.iloc[:, 1:-6]\n",
    "y3 = df2.iloc[:, -3]\n",
    "X_train, X_test, y3_train, y3_test = train_test_split(X, y3, test_size=0.1, random_state=0)\n",
    "\n",
    "regressor = RandomForestRegressor(random_state=0)\n",
    "\n",
    "param_grid = {'n_estimators': [100, 200, 300],\n",
    "              'max_depth': [4, 6, 8],\n",
    "              'min_samples_split': [2, 4, 6],\n",
    "              'min_samples_leaf': [1, 2, 4],\n",
    "              'bootstrap': [True, False],\n",
    "              'criterion': ['squared_error', 'absolute_error', 'friedman_mse', 'poisson'],\n",
    "              #'min_weight_fraction_leaf': [0.0, 0.2, 0.4, 0.6, 0.8, 1.0],\n",
    "              'max_features' : ['sqrt', 'log2', None],\n",
    "              #'max_leaf_nodes' : [1, 2, 4],\n",
    "              #'min_impurity_decrease' : [0.0, 0.2, 0.4, 0.6, 0.8, 1.0],\n",
    "              #'oob_score' : [True, False],\n",
    "              #'n_jobs' : [-2, -1, 0, 1, 2],\n",
    "              #'verbose' : [0, 2, 4, 6, 8],\n",
    "              'warm_start' : [True, False],\n",
    "              #'ccp_alpha' : [0.0, 0.2, 0.4, 0.6, 0.8, 1.0],\n",
    "              'max_samples' : [0, 1, 2, 3, 4, 5, 6, 7]\n",
    "             }\n",
    "\n",
    "scoring = 'neg_mean_absolute_error'\n",
    "\n",
    "grid_search = GridSearchCV(estimator=regressor, param_grid=param_grid, scoring=scoring, cv=5, n_jobs=-1)\n",
    "grid_search.fit(X_train, y3_train)\n",
    "\n",
    "print(\"Best parameters found: \",grid_search.best_params_)\n",
    "print(\"Best score found: \",grid_search.best_score_)"
   ]
  },
  {
   "cell_type": "code",
   "execution_count": 63,
   "id": "0e47dda0",
   "metadata": {},
   "outputs": [
    {
     "data": {
      "text/plain": [
       "array([24.53, 24.27, 25.86, 25.48, 25.88, 25.31, 24.39, 25.59, 25.96,\n",
       "       24.04, 25.6 , 24.44, 25.3 , 24.35, 25.04, 25.03, 24.96])"
      ]
     },
     "execution_count": 63,
     "metadata": {},
     "output_type": "execute_result"
    }
   ],
   "source": [
    "best_model = grid_search.best_estimator_\n",
    "y3_pred = best_model.predict(X_test)\n",
    "y3_pred"
   ]
  },
  {
   "cell_type": "code",
   "execution_count": 64,
   "id": "04fb5bf3",
   "metadata": {},
   "outputs": [
    {
     "name": "stdout",
     "output_type": "stream",
     "text": [
      "RMSE: 4.6978587112202765\n",
      "MAE: 3.49\n",
      "R-squared: -0.0038077274158010432\n",
      "MAPE: 349.0\n"
     ]
    }
   ],
   "source": [
    "# Calculate the RMSE\n",
    "rmse = np.sqrt(mean_squared_error(y3_test, y3_pred))\n",
    "\n",
    "# Calculate the MAE\n",
    "mae = mean_absolute_error(y3_test, y3_pred)\n",
    "\n",
    "# Calculate R-squared\n",
    "r2 = r2_score(y3_test, y3_pred)\n",
    "\n",
    "#MAPE\n",
    "mape = mean_absolute_error(y3_test, y3_pred)*100\n",
    "\n",
    "\n",
    "# Print the results\n",
    "print(\"RMSE:\", rmse)\n",
    "print(\"MAE:\", mae)\n",
    "print('R-squared:', r2)\n",
    "print('MAPE:' , mape)"
   ]
  },
  {
   "cell_type": "code",
   "execution_count": null,
   "id": "58bf9af1",
   "metadata": {},
   "outputs": [],
   "source": []
  },
  {
   "cell_type": "code",
   "execution_count": 65,
   "id": "29c524db",
   "metadata": {},
   "outputs": [
    {
     "name": "stderr",
     "output_type": "stream",
     "text": [
      "C:\\ProgramData\\Anaconda3\\lib\\site-packages\\sklearn\\model_selection\\_search.py:918: UserWarning: One or more of the test scores are non-finite: [        nan         nan         nan ... -4.37048288 -4.37025062\n",
      " -4.37025062]\n",
      "  warnings.warn(\n"
     ]
    },
    {
     "name": "stdout",
     "output_type": "stream",
     "text": [
      "Best parameters found:  {'bootstrap': True, 'criterion': 'poisson', 'max_depth': 4, 'max_features': None, 'max_samples': 7, 'min_samples_leaf': 2, 'min_samples_split': 2, 'n_estimators': 200, 'warm_start': True}\n",
      "Best score found:  -3.771194713261649\n"
     ]
    }
   ],
   "source": [
    "X = df2.iloc[:, 1:-6]\n",
    "y4 = df2.iloc[:, -4]\n",
    "X_train, X_test, y4_train, y4_test = train_test_split(X, y4, test_size=0.1, random_state=0)\n",
    "\n",
    "regressor = RandomForestRegressor(random_state=0)\n",
    "\n",
    "param_grid = {'n_estimators': [100, 200, 300],\n",
    "              'max_depth': [4, 6, 8],\n",
    "              'min_samples_split': [2, 4, 6],\n",
    "              'min_samples_leaf': [1, 2, 4],\n",
    "              'bootstrap': [True, False],\n",
    "              'criterion': ['squared_error', 'absolute_error', 'friedman_mse', 'poisson'],\n",
    "              #'min_weight_fraction_leaf': [0.0, 0.2, 0.4, 0.6, 0.8, 1.0],\n",
    "              'max_features' : ['sqrt', 'log2', None],\n",
    "              #'max_leaf_nodes' : [1, 2, 4],\n",
    "              #'min_impurity_decrease' : [0.0, 0.2, 0.4, 0.6, 0.8, 1.0],\n",
    "              #'oob_score' : [True, False],\n",
    "              #'n_jobs' : [-2, -1, 0, 1, 2],\n",
    "              #'verbose' : [0, 2, 4, 6, 8],\n",
    "              'warm_start' : [True, False],\n",
    "              #'ccp_alpha' : [0.0, 0.2, 0.4, 0.6, 0.8, 1.0],\n",
    "              'max_samples' : [0, 1, 2, 3, 4, 5, 6, 7]\n",
    "             }\n",
    "\n",
    "scoring = 'neg_mean_absolute_error'\n",
    "\n",
    "grid_search = GridSearchCV(estimator=regressor, param_grid=param_grid, scoring=scoring, cv=5, n_jobs=-1)\n",
    "grid_search.fit(X_train, y4_train)\n",
    "\n",
    "print(\"Best parameters found: \",grid_search.best_params_)\n",
    "print(\"Best score found: \",grid_search.best_score_)"
   ]
  },
  {
   "cell_type": "code",
   "execution_count": 66,
   "id": "a4c4c648",
   "metadata": {},
   "outputs": [
    {
     "data": {
      "text/plain": [
       "array([27.75633333, 26.12716667, 26.94583333, 27.71216667, 28.51916667,\n",
       "       27.55166667, 27.313     , 27.60883333, 27.87383333, 26.55      ,\n",
       "       26.51916667, 27.0625    , 25.9375    , 27.07216667, 27.4325    ,\n",
       "       26.73083333, 26.42583333])"
      ]
     },
     "execution_count": 66,
     "metadata": {},
     "output_type": "execute_result"
    }
   ],
   "source": [
    "best_model = grid_search.best_estimator_\n",
    "y4_pred = best_model.predict(X_test)\n",
    "y4_pred"
   ]
  },
  {
   "cell_type": "code",
   "execution_count": 67,
   "id": "3098094d",
   "metadata": {},
   "outputs": [
    {
     "name": "stdout",
     "output_type": "stream",
     "text": [
      "RMSE: 7.331726614649566\n",
      "MAE: 5.249264705882354\n",
      "R-squared: -0.15415811136082236\n",
      "MAPE: 524.9264705882354\n"
     ]
    }
   ],
   "source": [
    "# Calculate the RMSE\n",
    "rmse = np.sqrt(mean_squared_error(y4_test, y4_pred))\n",
    "\n",
    "# Calculate the MAE\n",
    "mae = mean_absolute_error(y4_test, y4_pred)\n",
    "\n",
    "# Calculate R-squared\n",
    "r2 = r2_score(y4_test, y4_pred)\n",
    "\n",
    "#MAPE\n",
    "mape = mean_absolute_error(y4_test, y4_pred)*100\n",
    "\n",
    "\n",
    "# Print the results\n",
    "print(\"RMSE:\", rmse)\n",
    "print(\"MAE:\", mae)\n",
    "print('R-squared:', r2)\n",
    "print('MAPE:' , mape)"
   ]
  },
  {
   "cell_type": "code",
   "execution_count": 31,
   "id": "e6530980",
   "metadata": {},
   "outputs": [
    {
     "data": {
      "text/html": [
       "<div>\n",
       "<style scoped>\n",
       "    .dataframe tbody tr th:only-of-type {\n",
       "        vertical-align: middle;\n",
       "    }\n",
       "\n",
       "    .dataframe tbody tr th {\n",
       "        vertical-align: top;\n",
       "    }\n",
       "\n",
       "    .dataframe thead th {\n",
       "        text-align: right;\n",
       "    }\n",
       "</style>\n",
       "<table border=\"1\" class=\"dataframe\">\n",
       "  <thead>\n",
       "    <tr style=\"text-align: right;\">\n",
       "      <th></th>\n",
       "      <th>Acousticness</th>\n",
       "      <th>Danceability</th>\n",
       "      <th>Energy</th>\n",
       "      <th>Instrumetalness</th>\n",
       "      <th>Valence</th>\n",
       "      <th>Liveness</th>\n",
       "      <th>Speechiness</th>\n",
       "      <th>Tempo</th>\n",
       "      <th>e</th>\n",
       "      <th>a</th>\n",
       "      <th>c</th>\n",
       "      <th>n</th>\n",
       "      <th>o</th>\n",
       "    </tr>\n",
       "  </thead>\n",
       "  <tbody>\n",
       "    <tr>\n",
       "      <th>1</th>\n",
       "      <td>0.147558</td>\n",
       "      <td>0.640451</td>\n",
       "      <td>0.748083</td>\n",
       "      <td>0.051822</td>\n",
       "      <td>0.480346</td>\n",
       "      <td>0.189778</td>\n",
       "      <td>0.073577</td>\n",
       "      <td>127.574218</td>\n",
       "      <td>22</td>\n",
       "      <td>29</td>\n",
       "      <td>21</td>\n",
       "      <td>22</td>\n",
       "      <td>39</td>\n",
       "    </tr>\n",
       "    <tr>\n",
       "      <th>2</th>\n",
       "      <td>0.415290</td>\n",
       "      <td>0.593477</td>\n",
       "      <td>0.548761</td>\n",
       "      <td>0.030824</td>\n",
       "      <td>0.514500</td>\n",
       "      <td>0.159370</td>\n",
       "      <td>0.050318</td>\n",
       "      <td>110.935409</td>\n",
       "      <td>13</td>\n",
       "      <td>25</td>\n",
       "      <td>19</td>\n",
       "      <td>21</td>\n",
       "      <td>20</td>\n",
       "    </tr>\n",
       "    <tr>\n",
       "      <th>3</th>\n",
       "      <td>0.379153</td>\n",
       "      <td>0.582821</td>\n",
       "      <td>0.562268</td>\n",
       "      <td>0.005340</td>\n",
       "      <td>0.418779</td>\n",
       "      <td>0.167027</td>\n",
       "      <td>0.053425</td>\n",
       "      <td>120.543518</td>\n",
       "      <td>35</td>\n",
       "      <td>39</td>\n",
       "      <td>20</td>\n",
       "      <td>30</td>\n",
       "      <td>29</td>\n",
       "    </tr>\n",
       "    <tr>\n",
       "      <th>4</th>\n",
       "      <td>0.241890</td>\n",
       "      <td>0.521280</td>\n",
       "      <td>0.647800</td>\n",
       "      <td>0.043464</td>\n",
       "      <td>0.522560</td>\n",
       "      <td>0.138768</td>\n",
       "      <td>0.035584</td>\n",
       "      <td>124.434640</td>\n",
       "      <td>9</td>\n",
       "      <td>25</td>\n",
       "      <td>23</td>\n",
       "      <td>23</td>\n",
       "      <td>23</td>\n",
       "    </tr>\n",
       "    <tr>\n",
       "      <th>5</th>\n",
       "      <td>0.528306</td>\n",
       "      <td>0.479194</td>\n",
       "      <td>0.435694</td>\n",
       "      <td>0.000304</td>\n",
       "      <td>0.417942</td>\n",
       "      <td>0.187475</td>\n",
       "      <td>0.086022</td>\n",
       "      <td>120.884889</td>\n",
       "      <td>13</td>\n",
       "      <td>21</td>\n",
       "      <td>20</td>\n",
       "      <td>15</td>\n",
       "      <td>24</td>\n",
       "    </tr>\n",
       "    <tr>\n",
       "      <th>...</th>\n",
       "      <td>...</td>\n",
       "      <td>...</td>\n",
       "      <td>...</td>\n",
       "      <td>...</td>\n",
       "      <td>...</td>\n",
       "      <td>...</td>\n",
       "      <td>...</td>\n",
       "      <td>...</td>\n",
       "      <td>...</td>\n",
       "      <td>...</td>\n",
       "      <td>...</td>\n",
       "      <td>...</td>\n",
       "      <td>...</td>\n",
       "    </tr>\n",
       "    <tr>\n",
       "      <th>196</th>\n",
       "      <td>0.286244</td>\n",
       "      <td>0.572567</td>\n",
       "      <td>0.590767</td>\n",
       "      <td>0.000112</td>\n",
       "      <td>0.431833</td>\n",
       "      <td>0.176493</td>\n",
       "      <td>0.057467</td>\n",
       "      <td>134.592000</td>\n",
       "      <td>15</td>\n",
       "      <td>23</td>\n",
       "      <td>24</td>\n",
       "      <td>17</td>\n",
       "      <td>23</td>\n",
       "    </tr>\n",
       "    <tr>\n",
       "      <th>197</th>\n",
       "      <td>0.357294</td>\n",
       "      <td>0.573233</td>\n",
       "      <td>0.567933</td>\n",
       "      <td>0.008958</td>\n",
       "      <td>0.399730</td>\n",
       "      <td>0.167013</td>\n",
       "      <td>0.053863</td>\n",
       "      <td>123.068967</td>\n",
       "      <td>9</td>\n",
       "      <td>29</td>\n",
       "      <td>25</td>\n",
       "      <td>23</td>\n",
       "      <td>28</td>\n",
       "    </tr>\n",
       "    <tr>\n",
       "      <th>198</th>\n",
       "      <td>0.574472</td>\n",
       "      <td>0.494367</td>\n",
       "      <td>0.482267</td>\n",
       "      <td>0.036431</td>\n",
       "      <td>0.340237</td>\n",
       "      <td>0.156077</td>\n",
       "      <td>0.033080</td>\n",
       "      <td>128.072900</td>\n",
       "      <td>5</td>\n",
       "      <td>26</td>\n",
       "      <td>24</td>\n",
       "      <td>10</td>\n",
       "      <td>25</td>\n",
       "    </tr>\n",
       "    <tr>\n",
       "      <th>199</th>\n",
       "      <td>0.326633</td>\n",
       "      <td>0.643600</td>\n",
       "      <td>0.565450</td>\n",
       "      <td>0.000364</td>\n",
       "      <td>0.466685</td>\n",
       "      <td>0.130260</td>\n",
       "      <td>0.072705</td>\n",
       "      <td>119.251550</td>\n",
       "      <td>14</td>\n",
       "      <td>23</td>\n",
       "      <td>26</td>\n",
       "      <td>21</td>\n",
       "      <td>29</td>\n",
       "    </tr>\n",
       "    <tr>\n",
       "      <th>200</th>\n",
       "      <td>0.706773</td>\n",
       "      <td>0.522133</td>\n",
       "      <td>0.407067</td>\n",
       "      <td>0.038620</td>\n",
       "      <td>0.394770</td>\n",
       "      <td>0.114550</td>\n",
       "      <td>0.033727</td>\n",
       "      <td>114.192933</td>\n",
       "      <td>18</td>\n",
       "      <td>28</td>\n",
       "      <td>19</td>\n",
       "      <td>20</td>\n",
       "      <td>21</td>\n",
       "    </tr>\n",
       "  </tbody>\n",
       "</table>\n",
       "<p>169 rows × 13 columns</p>\n",
       "</div>"
      ],
      "text/plain": [
       "     Acousticness  Danceability    Energy  Instrumetalness   Valence  \\\n",
       "1        0.147558      0.640451  0.748083         0.051822  0.480346   \n",
       "2        0.415290      0.593477  0.548761         0.030824  0.514500   \n",
       "3        0.379153      0.582821  0.562268         0.005340  0.418779   \n",
       "4        0.241890      0.521280  0.647800         0.043464  0.522560   \n",
       "5        0.528306      0.479194  0.435694         0.000304  0.417942   \n",
       "..            ...           ...       ...              ...       ...   \n",
       "196      0.286244      0.572567  0.590767         0.000112  0.431833   \n",
       "197      0.357294      0.573233  0.567933         0.008958  0.399730   \n",
       "198      0.574472      0.494367  0.482267         0.036431  0.340237   \n",
       "199      0.326633      0.643600  0.565450         0.000364  0.466685   \n",
       "200      0.706773      0.522133  0.407067         0.038620  0.394770   \n",
       "\n",
       "     Liveness  Speechiness       Tempo   e   a   c   n   o  \n",
       "1    0.189778     0.073577  127.574218  22  29  21  22  39  \n",
       "2    0.159370     0.050318  110.935409  13  25  19  21  20  \n",
       "3    0.167027     0.053425  120.543518  35  39  20  30  29  \n",
       "4    0.138768     0.035584  124.434640   9  25  23  23  23  \n",
       "5    0.187475     0.086022  120.884889  13  21  20  15  24  \n",
       "..        ...          ...         ...  ..  ..  ..  ..  ..  \n",
       "196  0.176493     0.057467  134.592000  15  23  24  17  23  \n",
       "197  0.167013     0.053863  123.068967   9  29  25  23  28  \n",
       "198  0.156077     0.033080  128.072900   5  26  24  10  25  \n",
       "199  0.130260     0.072705  119.251550  14  23  26  21  29  \n",
       "200  0.114550     0.033727  114.192933  18  28  19  20  21  \n",
       "\n",
       "[169 rows x 13 columns]"
      ]
     },
     "execution_count": 31,
     "metadata": {},
     "output_type": "execute_result"
    }
   ],
   "source": [
    "df2"
   ]
  },
  {
   "cell_type": "code",
   "execution_count": 68,
   "id": "c0b822af",
   "metadata": {},
   "outputs": [
    {
     "name": "stderr",
     "output_type": "stream",
     "text": [
      "C:\\ProgramData\\Anaconda3\\lib\\site-packages\\sklearn\\model_selection\\_search.py:918: UserWarning: One or more of the test scores are non-finite: [        nan         nan         nan ... -5.15911529 -5.15883083\n",
      " -5.15883083]\n",
      "  warnings.warn(\n"
     ]
    },
    {
     "name": "stdout",
     "output_type": "stream",
     "text": [
      "Best parameters found:  {'bootstrap': False, 'criterion': 'poisson', 'max_depth': 6, 'max_features': 'sqrt', 'max_samples': 1, 'min_samples_leaf': 4, 'min_samples_split': 2, 'n_estimators': 100, 'warm_start': True}\n",
      "Best score found:  -5.082783472360912\n"
     ]
    }
   ],
   "source": [
    "X = df2.iloc[:, 1:-6]\n",
    "y5 = df2.iloc[:, -5]\n",
    "X_train, X_test, y5_train, y5_test = train_test_split(X, y5, test_size=0.1, random_state=0)\n",
    "\n",
    "regressor = RandomForestRegressor(random_state=0)\n",
    "\n",
    "param_grid = {'n_estimators': [100, 200, 300],\n",
    "              'max_depth': [4, 6, 8],\n",
    "              'min_samples_split': [2, 4, 6],\n",
    "              'min_samples_leaf': [1, 2, 4],\n",
    "              'bootstrap': [True, False],\n",
    "              'criterion': ['squared_error', 'absolute_error', 'friedman_mse', 'poisson'],\n",
    "              #'min_weight_fraction_leaf': [0.0, 0.2, 0.4, 0.6, 0.8, 1.0],\n",
    "              'max_features' : ['sqrt', 'log2', None],\n",
    "              #'max_leaf_nodes' : [1, 2, 4],\n",
    "              #'min_impurity_decrease' : [0.0, 0.2, 0.4, 0.6, 0.8, 1.0],\n",
    "              #'oob_score' : [True, False],\n",
    "              #'n_jobs' : [-2, -1, 0, 1, 2],\n",
    "              #'verbose' : [0, 2, 4, 6, 8],\n",
    "              'warm_start' : [True, False],\n",
    "              #'ccp_alpha' : [0.0, 0.2, 0.4, 0.6, 0.8, 1.0],\n",
    "              'max_samples' : [0, 1, 2, 3, 4, 5, 6, 7]\n",
    "             }\n",
    "\n",
    "scoring = 'neg_mean_absolute_error'\n",
    "\n",
    "grid_search = GridSearchCV(estimator=regressor, param_grid=param_grid, scoring=scoring, cv=5, n_jobs=-1)\n",
    "grid_search.fit(X_train, y5_train)\n",
    "\n",
    "print(\"Best parameters found: \",grid_search.best_params_)\n",
    "print(\"Best score found: \",grid_search.best_score_)"
   ]
  },
  {
   "cell_type": "code",
   "execution_count": 69,
   "id": "84bb01b2",
   "metadata": {},
   "outputs": [
    {
     "data": {
      "text/plain": [
       "array([15.22401386, 15.1077663 , 15.1077663 , 15.30276386, 21.52621429,\n",
       "       20.21702645, 15.1077663 , 17.57348293, 17.97960298, 16.85733516,\n",
       "       15.1077663 , 20.4088637 , 15.1077663 , 20.4088637 , 15.1077663 ,\n",
       "       15.1077663 , 15.1077663 ])"
      ]
     },
     "execution_count": 69,
     "metadata": {},
     "output_type": "execute_result"
    }
   ],
   "source": [
    "best_model = grid_search.best_estimator_\n",
    "y5_pred = best_model.predict(X_test)\n",
    "y5_pred"
   ]
  },
  {
   "cell_type": "code",
   "execution_count": 70,
   "id": "996e1bbd",
   "metadata": {},
   "outputs": [
    {
     "name": "stdout",
     "output_type": "stream",
     "text": [
      "RMSE: 6.727211469788097\n",
      "MAE: 5.436972481800313\n",
      "R-squared: -0.044966693194536944\n",
      "MAPE: 543.6972481800314\n"
     ]
    }
   ],
   "source": [
    "# Calculate the RMSE\n",
    "rmse = np.sqrt(mean_squared_error(y5_test, y5_pred))\n",
    "\n",
    "# Calculate the MAE\n",
    "mae = mean_absolute_error(y5_test, y5_pred)\n",
    "\n",
    "# Calculate R-squared\n",
    "r2 = r2_score(y5_test, y5_pred)\n",
    "\n",
    "#MAPE\n",
    "mape = mean_absolute_error(y5_test, y5_pred)*100\n",
    "\n",
    "\n",
    "# Print the results\n",
    "print(\"RMSE:\", rmse)\n",
    "print(\"MAE:\", mae)\n",
    "print('R-squared:', r2)\n",
    "print('MAPE:' , mape)"
   ]
  },
  {
   "cell_type": "code",
   "execution_count": null,
   "id": "401204fc",
   "metadata": {},
   "outputs": [],
   "source": []
  },
  {
   "cell_type": "code",
   "execution_count": 36,
   "id": "39537631",
   "metadata": {},
   "outputs": [
    {
     "name": "stderr",
     "output_type": "stream",
     "text": [
      "C:\\ProgramData\\Anaconda3\\lib\\site-packages\\sklearn\\model_selection\\_search.py:918: UserWarning: One or more of the test scores are non-finite: [nan nan nan ... nan nan nan]\n",
      "  warnings.warn(\n"
     ]
    },
    {
     "ename": "ValueError",
     "evalue": "Expected 2D array, got 1D array instead:\narray=[114.74197  119.99893  113.5441   117.52787  121.31142  106.575165\n 119.25155  100.8682   116.75976  123.445    118.1406   118.62136\n 113.40339  129.46445  121.82467  114.3169   116.80065  117.8094\n 112.222244 123.75831  114.545105 129.0951   118.83052  116.73993\n 108.465    109.392265 125.18107  117.10937  107.04534  118.839935\n 130.39027  119.05653  118.55764  123.412766 127.37537  104.724365\n 117.62161  119.530106 108.8787   112.222244 113.8974   124.12203\n 125.91973  117.3694   124.55364  128.0729   111.75394  117.9483\n 116.46277  120.54352  111.33217  117.1762   118.839935 129.79053\n 120.56157  114.14003  129.797    111.08917  119.5569   113.33254\n 115.146126 125.19597  111.4765   110.87929  103.71453  107.2831\n 135.24107  118.38325  116.35641  114.09143  119.4351   121.23691\n 119.95013  116.19984  115.6637   124.61943  112.9381   119.4887\n 125.86369  121.69771  120.87006  124.43464  114.19293  119.74674\n 136.6577   109.531    119.70153  106.88413  129.60167  107.25937\n 116.5859   120.21944  114.6972   127.57422  114.98728  118.057434\n 121.437225 128.73323  114.88087  118.839935 117.0302   110.770164\n 123.06897  113.377266 110.93541  113.55706  113.08551  114.63424\n 113.243965 115.98005  120.88489  122.63613  125.11807  116.176735\n 108.789276 116.19984  109.67253  120.68543  125.6613   124.12203\n 117.72873  114.173065 120.3433   115.42109  132.69374  126.5718\n 115.61728  127.51463  108.52341  124.6354   113.84026  119.91463\n 134.592    108.465    123.537964 108.2361   106.1047   119.970436\n 116.585335 127.6365   123.9076   127.571655 114.17157  111.20313\n 122.8869   134.06047  122.841    116.69932  115.2727   127.182335\n 118.38325  124.87677 ].\nReshape your data either using array.reshape(-1, 1) if your data has a single feature or array.reshape(1, -1) if it contains a single sample.",
     "output_type": "error",
     "traceback": [
      "\u001b[1;31m---------------------------------------------------------------------------\u001b[0m",
      "\u001b[1;31mValueError\u001b[0m                                Traceback (most recent call last)",
      "\u001b[1;32m<ipython-input-36-6768bbb121fe>\u001b[0m in \u001b[0;36m<module>\u001b[1;34m\u001b[0m\n\u001b[0;32m     26\u001b[0m \u001b[1;33m\u001b[0m\u001b[0m\n\u001b[0;32m     27\u001b[0m \u001b[0mgrid_search\u001b[0m \u001b[1;33m=\u001b[0m \u001b[0mGridSearchCV\u001b[0m\u001b[1;33m(\u001b[0m\u001b[0mestimator\u001b[0m\u001b[1;33m=\u001b[0m\u001b[0mregressor\u001b[0m\u001b[1;33m,\u001b[0m \u001b[0mparam_grid\u001b[0m\u001b[1;33m=\u001b[0m\u001b[0mparam_grid\u001b[0m\u001b[1;33m,\u001b[0m \u001b[0mscoring\u001b[0m\u001b[1;33m=\u001b[0m\u001b[0mscoring\u001b[0m\u001b[1;33m,\u001b[0m \u001b[0mcv\u001b[0m\u001b[1;33m=\u001b[0m\u001b[1;36m5\u001b[0m\u001b[1;33m,\u001b[0m \u001b[0mn_jobs\u001b[0m\u001b[1;33m=\u001b[0m\u001b[1;33m-\u001b[0m\u001b[1;36m1\u001b[0m\u001b[1;33m)\u001b[0m\u001b[1;33m\u001b[0m\u001b[1;33m\u001b[0m\u001b[0m\n\u001b[1;32m---> 28\u001b[1;33m \u001b[0mgrid_search\u001b[0m\u001b[1;33m.\u001b[0m\u001b[0mfit\u001b[0m\u001b[1;33m(\u001b[0m\u001b[0mX_train\u001b[0m\u001b[1;33m,\u001b[0m \u001b[0my5_train\u001b[0m\u001b[1;33m)\u001b[0m\u001b[1;33m\u001b[0m\u001b[1;33m\u001b[0m\u001b[0m\n\u001b[0m\u001b[0;32m     29\u001b[0m \u001b[1;33m\u001b[0m\u001b[0m\n\u001b[0;32m     30\u001b[0m \u001b[0mprint\u001b[0m\u001b[1;33m(\u001b[0m\u001b[1;34m\"Best parameters found: \"\u001b[0m\u001b[1;33m,\u001b[0m\u001b[0mgrid_search\u001b[0m\u001b[1;33m.\u001b[0m\u001b[0mbest_params_\u001b[0m\u001b[1;33m)\u001b[0m\u001b[1;33m\u001b[0m\u001b[1;33m\u001b[0m\u001b[0m\n",
      "\u001b[1;32mC:\\ProgramData\\Anaconda3\\lib\\site-packages\\sklearn\\utils\\validation.py\u001b[0m in \u001b[0;36minner_f\u001b[1;34m(*args, **kwargs)\u001b[0m\n\u001b[0;32m     61\u001b[0m             \u001b[0mextra_args\u001b[0m \u001b[1;33m=\u001b[0m \u001b[0mlen\u001b[0m\u001b[1;33m(\u001b[0m\u001b[0margs\u001b[0m\u001b[1;33m)\u001b[0m \u001b[1;33m-\u001b[0m \u001b[0mlen\u001b[0m\u001b[1;33m(\u001b[0m\u001b[0mall_args\u001b[0m\u001b[1;33m)\u001b[0m\u001b[1;33m\u001b[0m\u001b[1;33m\u001b[0m\u001b[0m\n\u001b[0;32m     62\u001b[0m             \u001b[1;32mif\u001b[0m \u001b[0mextra_args\u001b[0m \u001b[1;33m<=\u001b[0m \u001b[1;36m0\u001b[0m\u001b[1;33m:\u001b[0m\u001b[1;33m\u001b[0m\u001b[1;33m\u001b[0m\u001b[0m\n\u001b[1;32m---> 63\u001b[1;33m                 \u001b[1;32mreturn\u001b[0m \u001b[0mf\u001b[0m\u001b[1;33m(\u001b[0m\u001b[1;33m*\u001b[0m\u001b[0margs\u001b[0m\u001b[1;33m,\u001b[0m \u001b[1;33m**\u001b[0m\u001b[0mkwargs\u001b[0m\u001b[1;33m)\u001b[0m\u001b[1;33m\u001b[0m\u001b[1;33m\u001b[0m\u001b[0m\n\u001b[0m\u001b[0;32m     64\u001b[0m \u001b[1;33m\u001b[0m\u001b[0m\n\u001b[0;32m     65\u001b[0m             \u001b[1;31m# extra_args > 0\u001b[0m\u001b[1;33m\u001b[0m\u001b[1;33m\u001b[0m\u001b[1;33m\u001b[0m\u001b[0m\n",
      "\u001b[1;32mC:\\ProgramData\\Anaconda3\\lib\\site-packages\\sklearn\\model_selection\\_search.py\u001b[0m in \u001b[0;36mfit\u001b[1;34m(self, X, y, groups, **fit_params)\u001b[0m\n\u001b[0;32m    878\u001b[0m             \u001b[0mrefit_start_time\u001b[0m \u001b[1;33m=\u001b[0m \u001b[0mtime\u001b[0m\u001b[1;33m.\u001b[0m\u001b[0mtime\u001b[0m\u001b[1;33m(\u001b[0m\u001b[1;33m)\u001b[0m\u001b[1;33m\u001b[0m\u001b[1;33m\u001b[0m\u001b[0m\n\u001b[0;32m    879\u001b[0m             \u001b[1;32mif\u001b[0m \u001b[0my\u001b[0m \u001b[1;32mis\u001b[0m \u001b[1;32mnot\u001b[0m \u001b[1;32mNone\u001b[0m\u001b[1;33m:\u001b[0m\u001b[1;33m\u001b[0m\u001b[1;33m\u001b[0m\u001b[0m\n\u001b[1;32m--> 880\u001b[1;33m                 \u001b[0mself\u001b[0m\u001b[1;33m.\u001b[0m\u001b[0mbest_estimator_\u001b[0m\u001b[1;33m.\u001b[0m\u001b[0mfit\u001b[0m\u001b[1;33m(\u001b[0m\u001b[0mX\u001b[0m\u001b[1;33m,\u001b[0m \u001b[0my\u001b[0m\u001b[1;33m,\u001b[0m \u001b[1;33m**\u001b[0m\u001b[0mfit_params\u001b[0m\u001b[1;33m)\u001b[0m\u001b[1;33m\u001b[0m\u001b[1;33m\u001b[0m\u001b[0m\n\u001b[0m\u001b[0;32m    881\u001b[0m             \u001b[1;32melse\u001b[0m\u001b[1;33m:\u001b[0m\u001b[1;33m\u001b[0m\u001b[1;33m\u001b[0m\u001b[0m\n\u001b[0;32m    882\u001b[0m                 \u001b[0mself\u001b[0m\u001b[1;33m.\u001b[0m\u001b[0mbest_estimator_\u001b[0m\u001b[1;33m.\u001b[0m\u001b[0mfit\u001b[0m\u001b[1;33m(\u001b[0m\u001b[0mX\u001b[0m\u001b[1;33m,\u001b[0m \u001b[1;33m**\u001b[0m\u001b[0mfit_params\u001b[0m\u001b[1;33m)\u001b[0m\u001b[1;33m\u001b[0m\u001b[1;33m\u001b[0m\u001b[0m\n",
      "\u001b[1;32mC:\\ProgramData\\Anaconda3\\lib\\site-packages\\sklearn\\ensemble\\_forest.py\u001b[0m in \u001b[0;36mfit\u001b[1;34m(self, X, y, sample_weight)\u001b[0m\n\u001b[0;32m    302\u001b[0m                 \u001b[1;34m\"sparse multilabel-indicator for y is not supported.\"\u001b[0m\u001b[1;33m\u001b[0m\u001b[1;33m\u001b[0m\u001b[0m\n\u001b[0;32m    303\u001b[0m             )\n\u001b[1;32m--> 304\u001b[1;33m         X, y = self._validate_data(X, y, multi_output=True,\n\u001b[0m\u001b[0;32m    305\u001b[0m                                    accept_sparse=\"csc\", dtype=DTYPE)\n\u001b[0;32m    306\u001b[0m         \u001b[1;32mif\u001b[0m \u001b[0msample_weight\u001b[0m \u001b[1;32mis\u001b[0m \u001b[1;32mnot\u001b[0m \u001b[1;32mNone\u001b[0m\u001b[1;33m:\u001b[0m\u001b[1;33m\u001b[0m\u001b[1;33m\u001b[0m\u001b[0m\n",
      "\u001b[1;32mC:\\ProgramData\\Anaconda3\\lib\\site-packages\\sklearn\\base.py\u001b[0m in \u001b[0;36m_validate_data\u001b[1;34m(self, X, y, reset, validate_separately, **check_params)\u001b[0m\n\u001b[0;32m    431\u001b[0m                 \u001b[0my\u001b[0m \u001b[1;33m=\u001b[0m \u001b[0mcheck_array\u001b[0m\u001b[1;33m(\u001b[0m\u001b[0my\u001b[0m\u001b[1;33m,\u001b[0m \u001b[1;33m**\u001b[0m\u001b[0mcheck_y_params\u001b[0m\u001b[1;33m)\u001b[0m\u001b[1;33m\u001b[0m\u001b[1;33m\u001b[0m\u001b[0m\n\u001b[0;32m    432\u001b[0m             \u001b[1;32melse\u001b[0m\u001b[1;33m:\u001b[0m\u001b[1;33m\u001b[0m\u001b[1;33m\u001b[0m\u001b[0m\n\u001b[1;32m--> 433\u001b[1;33m                 \u001b[0mX\u001b[0m\u001b[1;33m,\u001b[0m \u001b[0my\u001b[0m \u001b[1;33m=\u001b[0m \u001b[0mcheck_X_y\u001b[0m\u001b[1;33m(\u001b[0m\u001b[0mX\u001b[0m\u001b[1;33m,\u001b[0m \u001b[0my\u001b[0m\u001b[1;33m,\u001b[0m \u001b[1;33m**\u001b[0m\u001b[0mcheck_params\u001b[0m\u001b[1;33m)\u001b[0m\u001b[1;33m\u001b[0m\u001b[1;33m\u001b[0m\u001b[0m\n\u001b[0m\u001b[0;32m    434\u001b[0m             \u001b[0mout\u001b[0m \u001b[1;33m=\u001b[0m \u001b[0mX\u001b[0m\u001b[1;33m,\u001b[0m \u001b[0my\u001b[0m\u001b[1;33m\u001b[0m\u001b[1;33m\u001b[0m\u001b[0m\n\u001b[0;32m    435\u001b[0m \u001b[1;33m\u001b[0m\u001b[0m\n",
      "\u001b[1;32mC:\\ProgramData\\Anaconda3\\lib\\site-packages\\sklearn\\utils\\validation.py\u001b[0m in \u001b[0;36minner_f\u001b[1;34m(*args, **kwargs)\u001b[0m\n\u001b[0;32m     61\u001b[0m             \u001b[0mextra_args\u001b[0m \u001b[1;33m=\u001b[0m \u001b[0mlen\u001b[0m\u001b[1;33m(\u001b[0m\u001b[0margs\u001b[0m\u001b[1;33m)\u001b[0m \u001b[1;33m-\u001b[0m \u001b[0mlen\u001b[0m\u001b[1;33m(\u001b[0m\u001b[0mall_args\u001b[0m\u001b[1;33m)\u001b[0m\u001b[1;33m\u001b[0m\u001b[1;33m\u001b[0m\u001b[0m\n\u001b[0;32m     62\u001b[0m             \u001b[1;32mif\u001b[0m \u001b[0mextra_args\u001b[0m \u001b[1;33m<=\u001b[0m \u001b[1;36m0\u001b[0m\u001b[1;33m:\u001b[0m\u001b[1;33m\u001b[0m\u001b[1;33m\u001b[0m\u001b[0m\n\u001b[1;32m---> 63\u001b[1;33m                 \u001b[1;32mreturn\u001b[0m \u001b[0mf\u001b[0m\u001b[1;33m(\u001b[0m\u001b[1;33m*\u001b[0m\u001b[0margs\u001b[0m\u001b[1;33m,\u001b[0m \u001b[1;33m**\u001b[0m\u001b[0mkwargs\u001b[0m\u001b[1;33m)\u001b[0m\u001b[1;33m\u001b[0m\u001b[1;33m\u001b[0m\u001b[0m\n\u001b[0m\u001b[0;32m     64\u001b[0m \u001b[1;33m\u001b[0m\u001b[0m\n\u001b[0;32m     65\u001b[0m             \u001b[1;31m# extra_args > 0\u001b[0m\u001b[1;33m\u001b[0m\u001b[1;33m\u001b[0m\u001b[1;33m\u001b[0m\u001b[0m\n",
      "\u001b[1;32mC:\\ProgramData\\Anaconda3\\lib\\site-packages\\sklearn\\utils\\validation.py\u001b[0m in \u001b[0;36mcheck_X_y\u001b[1;34m(X, y, accept_sparse, accept_large_sparse, dtype, order, copy, force_all_finite, ensure_2d, allow_nd, multi_output, ensure_min_samples, ensure_min_features, y_numeric, estimator)\u001b[0m\n\u001b[0;32m    812\u001b[0m         \u001b[1;32mraise\u001b[0m \u001b[0mValueError\u001b[0m\u001b[1;33m(\u001b[0m\u001b[1;34m\"y cannot be None\"\u001b[0m\u001b[1;33m)\u001b[0m\u001b[1;33m\u001b[0m\u001b[1;33m\u001b[0m\u001b[0m\n\u001b[0;32m    813\u001b[0m \u001b[1;33m\u001b[0m\u001b[0m\n\u001b[1;32m--> 814\u001b[1;33m     X = check_array(X, accept_sparse=accept_sparse,\n\u001b[0m\u001b[0;32m    815\u001b[0m                     \u001b[0maccept_large_sparse\u001b[0m\u001b[1;33m=\u001b[0m\u001b[0maccept_large_sparse\u001b[0m\u001b[1;33m,\u001b[0m\u001b[1;33m\u001b[0m\u001b[1;33m\u001b[0m\u001b[0m\n\u001b[0;32m    816\u001b[0m                     \u001b[0mdtype\u001b[0m\u001b[1;33m=\u001b[0m\u001b[0mdtype\u001b[0m\u001b[1;33m,\u001b[0m \u001b[0morder\u001b[0m\u001b[1;33m=\u001b[0m\u001b[0morder\u001b[0m\u001b[1;33m,\u001b[0m \u001b[0mcopy\u001b[0m\u001b[1;33m=\u001b[0m\u001b[0mcopy\u001b[0m\u001b[1;33m,\u001b[0m\u001b[1;33m\u001b[0m\u001b[1;33m\u001b[0m\u001b[0m\n",
      "\u001b[1;32mC:\\ProgramData\\Anaconda3\\lib\\site-packages\\sklearn\\utils\\validation.py\u001b[0m in \u001b[0;36minner_f\u001b[1;34m(*args, **kwargs)\u001b[0m\n\u001b[0;32m     61\u001b[0m             \u001b[0mextra_args\u001b[0m \u001b[1;33m=\u001b[0m \u001b[0mlen\u001b[0m\u001b[1;33m(\u001b[0m\u001b[0margs\u001b[0m\u001b[1;33m)\u001b[0m \u001b[1;33m-\u001b[0m \u001b[0mlen\u001b[0m\u001b[1;33m(\u001b[0m\u001b[0mall_args\u001b[0m\u001b[1;33m)\u001b[0m\u001b[1;33m\u001b[0m\u001b[1;33m\u001b[0m\u001b[0m\n\u001b[0;32m     62\u001b[0m             \u001b[1;32mif\u001b[0m \u001b[0mextra_args\u001b[0m \u001b[1;33m<=\u001b[0m \u001b[1;36m0\u001b[0m\u001b[1;33m:\u001b[0m\u001b[1;33m\u001b[0m\u001b[1;33m\u001b[0m\u001b[0m\n\u001b[1;32m---> 63\u001b[1;33m                 \u001b[1;32mreturn\u001b[0m \u001b[0mf\u001b[0m\u001b[1;33m(\u001b[0m\u001b[1;33m*\u001b[0m\u001b[0margs\u001b[0m\u001b[1;33m,\u001b[0m \u001b[1;33m**\u001b[0m\u001b[0mkwargs\u001b[0m\u001b[1;33m)\u001b[0m\u001b[1;33m\u001b[0m\u001b[1;33m\u001b[0m\u001b[0m\n\u001b[0m\u001b[0;32m     64\u001b[0m \u001b[1;33m\u001b[0m\u001b[0m\n\u001b[0;32m     65\u001b[0m             \u001b[1;31m# extra_args > 0\u001b[0m\u001b[1;33m\u001b[0m\u001b[1;33m\u001b[0m\u001b[1;33m\u001b[0m\u001b[0m\n",
      "\u001b[1;32mC:\\ProgramData\\Anaconda3\\lib\\site-packages\\sklearn\\utils\\validation.py\u001b[0m in \u001b[0;36mcheck_array\u001b[1;34m(array, accept_sparse, accept_large_sparse, dtype, order, copy, force_all_finite, ensure_2d, allow_nd, ensure_min_samples, ensure_min_features, estimator)\u001b[0m\n\u001b[0;32m    635\u001b[0m             \u001b[1;31m# If input is 1D raise error\u001b[0m\u001b[1;33m\u001b[0m\u001b[1;33m\u001b[0m\u001b[1;33m\u001b[0m\u001b[0m\n\u001b[0;32m    636\u001b[0m             \u001b[1;32mif\u001b[0m \u001b[0marray\u001b[0m\u001b[1;33m.\u001b[0m\u001b[0mndim\u001b[0m \u001b[1;33m==\u001b[0m \u001b[1;36m1\u001b[0m\u001b[1;33m:\u001b[0m\u001b[1;33m\u001b[0m\u001b[1;33m\u001b[0m\u001b[0m\n\u001b[1;32m--> 637\u001b[1;33m                 raise ValueError(\n\u001b[0m\u001b[0;32m    638\u001b[0m                     \u001b[1;34m\"Expected 2D array, got 1D array instead:\\narray={}.\\n\"\u001b[0m\u001b[1;33m\u001b[0m\u001b[1;33m\u001b[0m\u001b[0m\n\u001b[0;32m    639\u001b[0m                     \u001b[1;34m\"Reshape your data either using array.reshape(-1, 1) if \"\u001b[0m\u001b[1;33m\u001b[0m\u001b[1;33m\u001b[0m\u001b[0m\n",
      "\u001b[1;31mValueError\u001b[0m: Expected 2D array, got 1D array instead:\narray=[114.74197  119.99893  113.5441   117.52787  121.31142  106.575165\n 119.25155  100.8682   116.75976  123.445    118.1406   118.62136\n 113.40339  129.46445  121.82467  114.3169   116.80065  117.8094\n 112.222244 123.75831  114.545105 129.0951   118.83052  116.73993\n 108.465    109.392265 125.18107  117.10937  107.04534  118.839935\n 130.39027  119.05653  118.55764  123.412766 127.37537  104.724365\n 117.62161  119.530106 108.8787   112.222244 113.8974   124.12203\n 125.91973  117.3694   124.55364  128.0729   111.75394  117.9483\n 116.46277  120.54352  111.33217  117.1762   118.839935 129.79053\n 120.56157  114.14003  129.797    111.08917  119.5569   113.33254\n 115.146126 125.19597  111.4765   110.87929  103.71453  107.2831\n 135.24107  118.38325  116.35641  114.09143  119.4351   121.23691\n 119.95013  116.19984  115.6637   124.61943  112.9381   119.4887\n 125.86369  121.69771  120.87006  124.43464  114.19293  119.74674\n 136.6577   109.531    119.70153  106.88413  129.60167  107.25937\n 116.5859   120.21944  114.6972   127.57422  114.98728  118.057434\n 121.437225 128.73323  114.88087  118.839935 117.0302   110.770164\n 123.06897  113.377266 110.93541  113.55706  113.08551  114.63424\n 113.243965 115.98005  120.88489  122.63613  125.11807  116.176735\n 108.789276 116.19984  109.67253  120.68543  125.6613   124.12203\n 117.72873  114.173065 120.3433   115.42109  132.69374  126.5718\n 115.61728  127.51463  108.52341  124.6354   113.84026  119.91463\n 134.592    108.465    123.537964 108.2361   106.1047   119.970436\n 116.585335 127.6365   123.9076   127.571655 114.17157  111.20313\n 122.8869   134.06047  122.841    116.69932  115.2727   127.182335\n 118.38325  124.87677 ].\nReshape your data either using array.reshape(-1, 1) if your data has a single feature or array.reshape(1, -1) if it contains a single sample."
     ]
    }
   ],
   "source": [
    "X = df2.iloc[:, -6]\n",
    "y5 = df2.iloc[:, -5]\n",
    "X_train, X_test, y5_train, y5_test = train_test_split(X, y5, test_size=0.1, random_state=0)\n",
    "\n",
    "regressor = RandomForestRegressor(random_state=0)\n",
    "\n",
    "param_grid = {'n_estimators': [100, 200, 300],\n",
    "              'max_depth': [4, 6, 8],\n",
    "              'min_samples_split': [2, 4, 6],\n",
    "              'min_samples_leaf': [1, 2, 4],\n",
    "              'bootstrap': [True],\n",
    "              'criterion': ['squared_error', 'absolute_error', 'friedman_mse', 'poisson'],\n",
    "              #'min_weight_fraction_leaf': [0.0, 0.2, 0.4, 0.6, 0.8, 1.0],\n",
    "              'max_features' : ['sqrt', 'log2', None],\n",
    "              #'max_leaf_nodes' : [1, 2, 4],\n",
    "              #'min_impurity_decrease' : [0.0, 0.2, 0.4, 0.6, 0.8, 1.0],\n",
    "              #'oob_score' : [True, False],\n",
    "              #'n_jobs' : [-2, -1, 0, 1, 2],\n",
    "              #'verbose' : [0, 2, 4, 6, 8],\n",
    "              'warm_start' : [False],\n",
    "              #'ccp_alpha' : [0.0, 0.2, 0.4, 0.6, 0.8, 1.0],\n",
    "              'max_samples' : [0, 1, 2, 3, 4, 5, 6, 7]\n",
    "             }\n",
    "\n",
    "scoring = 'neg_mean_absolute_error'\n",
    "\n",
    "grid_search = GridSearchCV(estimator=regressor, param_grid=param_grid, scoring=scoring, cv=5, n_jobs=-1)\n",
    "grid_search.fit(X_train, y5_train)\n",
    "\n",
    "print(\"Best parameters found: \",grid_search.best_params_)\n",
    "print(\"Best score found: \",grid_search.best_score_)"
   ]
  },
  {
   "cell_type": "code",
   "execution_count": 37,
   "id": "f5d71ba5",
   "metadata": {},
   "outputs": [
    {
     "ename": "NotFittedError",
     "evalue": "This RandomForestRegressor instance is not fitted yet. Call 'fit' with appropriate arguments before using this estimator.",
     "output_type": "error",
     "traceback": [
      "\u001b[1;31m---------------------------------------------------------------------------\u001b[0m",
      "\u001b[1;31mNotFittedError\u001b[0m                            Traceback (most recent call last)",
      "\u001b[1;32m<ipython-input-37-044d968052c8>\u001b[0m in \u001b[0;36m<module>\u001b[1;34m\u001b[0m\n\u001b[0;32m      1\u001b[0m \u001b[0mbest_model\u001b[0m \u001b[1;33m=\u001b[0m \u001b[0mgrid_search\u001b[0m\u001b[1;33m.\u001b[0m\u001b[0mbest_estimator_\u001b[0m\u001b[1;33m\u001b[0m\u001b[1;33m\u001b[0m\u001b[0m\n\u001b[1;32m----> 2\u001b[1;33m \u001b[0my5_pred\u001b[0m \u001b[1;33m=\u001b[0m \u001b[0mbest_model\u001b[0m\u001b[1;33m.\u001b[0m\u001b[0mpredict\u001b[0m\u001b[1;33m(\u001b[0m\u001b[0mX_test\u001b[0m\u001b[1;33m)\u001b[0m\u001b[1;33m\u001b[0m\u001b[1;33m\u001b[0m\u001b[0m\n\u001b[0m\u001b[0;32m      3\u001b[0m \u001b[0my5_pred\u001b[0m\u001b[1;33m\u001b[0m\u001b[1;33m\u001b[0m\u001b[0m\n",
      "\u001b[1;32mC:\\ProgramData\\Anaconda3\\lib\\site-packages\\sklearn\\ensemble\\_forest.py\u001b[0m in \u001b[0;36mpredict\u001b[1;34m(self, X)\u001b[0m\n\u001b[0;32m    780\u001b[0m             \u001b[0mThe\u001b[0m \u001b[0mpredicted\u001b[0m \u001b[0mvalues\u001b[0m\u001b[1;33m.\u001b[0m\u001b[1;33m\u001b[0m\u001b[1;33m\u001b[0m\u001b[0m\n\u001b[0;32m    781\u001b[0m         \"\"\"\n\u001b[1;32m--> 782\u001b[1;33m         \u001b[0mcheck_is_fitted\u001b[0m\u001b[1;33m(\u001b[0m\u001b[0mself\u001b[0m\u001b[1;33m)\u001b[0m\u001b[1;33m\u001b[0m\u001b[1;33m\u001b[0m\u001b[0m\n\u001b[0m\u001b[0;32m    783\u001b[0m         \u001b[1;31m# Check data\u001b[0m\u001b[1;33m\u001b[0m\u001b[1;33m\u001b[0m\u001b[1;33m\u001b[0m\u001b[0m\n\u001b[0;32m    784\u001b[0m         \u001b[0mX\u001b[0m \u001b[1;33m=\u001b[0m \u001b[0mself\u001b[0m\u001b[1;33m.\u001b[0m\u001b[0m_validate_X_predict\u001b[0m\u001b[1;33m(\u001b[0m\u001b[0mX\u001b[0m\u001b[1;33m)\u001b[0m\u001b[1;33m\u001b[0m\u001b[1;33m\u001b[0m\u001b[0m\n",
      "\u001b[1;32mC:\\ProgramData\\Anaconda3\\lib\\site-packages\\sklearn\\utils\\validation.py\u001b[0m in \u001b[0;36minner_f\u001b[1;34m(*args, **kwargs)\u001b[0m\n\u001b[0;32m     61\u001b[0m             \u001b[0mextra_args\u001b[0m \u001b[1;33m=\u001b[0m \u001b[0mlen\u001b[0m\u001b[1;33m(\u001b[0m\u001b[0margs\u001b[0m\u001b[1;33m)\u001b[0m \u001b[1;33m-\u001b[0m \u001b[0mlen\u001b[0m\u001b[1;33m(\u001b[0m\u001b[0mall_args\u001b[0m\u001b[1;33m)\u001b[0m\u001b[1;33m\u001b[0m\u001b[1;33m\u001b[0m\u001b[0m\n\u001b[0;32m     62\u001b[0m             \u001b[1;32mif\u001b[0m \u001b[0mextra_args\u001b[0m \u001b[1;33m<=\u001b[0m \u001b[1;36m0\u001b[0m\u001b[1;33m:\u001b[0m\u001b[1;33m\u001b[0m\u001b[1;33m\u001b[0m\u001b[0m\n\u001b[1;32m---> 63\u001b[1;33m                 \u001b[1;32mreturn\u001b[0m \u001b[0mf\u001b[0m\u001b[1;33m(\u001b[0m\u001b[1;33m*\u001b[0m\u001b[0margs\u001b[0m\u001b[1;33m,\u001b[0m \u001b[1;33m**\u001b[0m\u001b[0mkwargs\u001b[0m\u001b[1;33m)\u001b[0m\u001b[1;33m\u001b[0m\u001b[1;33m\u001b[0m\u001b[0m\n\u001b[0m\u001b[0;32m     64\u001b[0m \u001b[1;33m\u001b[0m\u001b[0m\n\u001b[0;32m     65\u001b[0m             \u001b[1;31m# extra_args > 0\u001b[0m\u001b[1;33m\u001b[0m\u001b[1;33m\u001b[0m\u001b[1;33m\u001b[0m\u001b[0m\n",
      "\u001b[1;32mC:\\ProgramData\\Anaconda3\\lib\\site-packages\\sklearn\\utils\\validation.py\u001b[0m in \u001b[0;36mcheck_is_fitted\u001b[1;34m(estimator, attributes, msg, all_or_any)\u001b[0m\n\u001b[0;32m   1039\u001b[0m \u001b[1;33m\u001b[0m\u001b[0m\n\u001b[0;32m   1040\u001b[0m     \u001b[1;32mif\u001b[0m \u001b[1;32mnot\u001b[0m \u001b[0mattrs\u001b[0m\u001b[1;33m:\u001b[0m\u001b[1;33m\u001b[0m\u001b[1;33m\u001b[0m\u001b[0m\n\u001b[1;32m-> 1041\u001b[1;33m         \u001b[1;32mraise\u001b[0m \u001b[0mNotFittedError\u001b[0m\u001b[1;33m(\u001b[0m\u001b[0mmsg\u001b[0m \u001b[1;33m%\u001b[0m \u001b[1;33m{\u001b[0m\u001b[1;34m'name'\u001b[0m\u001b[1;33m:\u001b[0m \u001b[0mtype\u001b[0m\u001b[1;33m(\u001b[0m\u001b[0mestimator\u001b[0m\u001b[1;33m)\u001b[0m\u001b[1;33m.\u001b[0m\u001b[0m__name__\u001b[0m\u001b[1;33m}\u001b[0m\u001b[1;33m)\u001b[0m\u001b[1;33m\u001b[0m\u001b[1;33m\u001b[0m\u001b[0m\n\u001b[0m\u001b[0;32m   1042\u001b[0m \u001b[1;33m\u001b[0m\u001b[0m\n\u001b[0;32m   1043\u001b[0m \u001b[1;33m\u001b[0m\u001b[0m\n",
      "\u001b[1;31mNotFittedError\u001b[0m: This RandomForestRegressor instance is not fitted yet. Call 'fit' with appropriate arguments before using this estimator."
     ]
    }
   ],
   "source": [
    "best_model = grid_search.best_estimator_\n",
    "y5_pred = best_model.predict(X_test)\n",
    "y5_pred"
   ]
  },
  {
   "cell_type": "code",
   "execution_count": 38,
   "id": "a63e00b3",
   "metadata": {},
   "outputs": [
    {
     "name": "stdout",
     "output_type": "stream",
     "text": [
      "RMSE: 7.033367519715778\n",
      "MAE: 5.367928104575163\n",
      "R-squared: -0.14224406798310496\n",
      "MAPE: 536.7928104575162\n"
     ]
    }
   ],
   "source": [
    "# Calculate R-squared\n",
    "r2 = r2_score(y5_test, y5_pred)\n",
    "\n",
    "#MAPE\n",
    "mape = mean_absolute_error(y5_test, y5_pred)*100\n",
    "\n",
    "\n",
    "# Print the results\n",
    "print(\"RMSE:\", rmse)\n",
    "print(\"MAE:\", mae)\n",
    "print('R-squared:', r2)\n",
    "print('MAPE:' , mape)"
   ]
  },
  {
   "cell_type": "code",
   "execution_count": null,
   "id": "6dd41fde",
   "metadata": {},
   "outputs": [],
   "source": []
  }
 ],
 "metadata": {
  "kernelspec": {
   "display_name": "Python 3",
   "language": "python",
   "name": "python3"
  },
  "language_info": {
   "codemirror_mode": {
    "name": "ipython",
    "version": 3
   },
   "file_extension": ".py",
   "mimetype": "text/x-python",
   "name": "python",
   "nbconvert_exporter": "python",
   "pygments_lexer": "ipython3",
   "version": "3.8.8"
  }
 },
 "nbformat": 4,
 "nbformat_minor": 5
}
